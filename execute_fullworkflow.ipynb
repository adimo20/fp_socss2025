{
 "cells": [
  {
   "cell_type": "code",
   "execution_count": 1,
   "id": "c77c085f",
   "metadata": {},
   "outputs": [
    {
     "name": "stderr",
     "output_type": "stream",
     "text": [
      "c:\\Users\\adrim\\AppData\\Local\\Programs\\Python\\Python313\\Lib\\site-packages\\tqdm\\auto.py:21: TqdmWarning: IProgress not found. Please update jupyter and ipywidgets. See https://ipywidgets.readthedocs.io/en/stable/user_install.html\n",
      "  from .autonotebook import tqdm as notebook_tqdm\n"
     ]
    }
   ],
   "source": [
    "from scripts.information_extractor_lib import InformationExtractor\n",
    "from scripts.config_file import configs, generation_config\n",
    "import pandas as pd\n",
    "from full_workflow_config import fw_config\n"
   ]
  },
  {
   "cell_type": "code",
   "execution_count": 2,
   "id": "01cf0bfb",
   "metadata": {},
   "outputs": [],
   "source": [
    "fw_config = {\n",
    "    \"CORRECTION_PROMPT\": \"You're an ocr corrector. You are an expert in correcting ocr errors in the german language.\" \\\n",
    "    \" The text you will receive can contain ocr-errors. There may be special characters that dont belong in the sentence, for example #.\" \\\n",
    "    \"Remove those characters. Please correct those and return the corrected string and the page_id in form of the scheme you received.\",\n",
    "    \"COMPLETION_PROMPT\":\"You're an text corrector. You are an expert in correcting texts. You will receive a text in the german language that contain abreviated words, \"\n",
    "    \"write those abriviated words out and return the corrected sentence in the schemes you had been given\",\n",
    "    \"model_name\":\"gemini-2.0-flash\"\n",
    "}"
   ]
  },
  {
   "cell_type": "code",
   "execution_count": null,
   "id": "4c2328fa",
   "metadata": {},
   "outputs": [
    {
     "data": {
      "application/vnd.microsoft.datawrangler.viewer.v0+json": {
       "columns": [
        {
         "name": "index",
         "rawType": "int64",
         "type": "integer"
        },
        {
         "name": "page_id",
         "rawType": "object",
         "type": "string"
        },
        {
         "name": "text",
         "rawType": "object",
         "type": "string"
        },
        {
         "name": "time",
         "rawType": "object",
         "type": "string"
        }
       ],
       "ref": "6153923e-9b39-4f37-b14c-7c21cd0ec276",
       "rows": [
        [
         "0",
         "22KVFOV36KTZS67POXRNU5DJKD4XYSPI-ALTO1934911_DDB_FULLTEXT",
         "Suche für meine Tochter , 18 Jahre , Stelle als angeh . Arbeiterin in kathol . Hause bei Familienanschl . in Boun oder Umgegend . Augebote u . A . K . A . 4368 .",
         "2025-07-09_18_04"
        ],
        [
         "1",
         "23GSP3TO42E3USTLALB2X5EHUMBSEOWM-ALTO8960309_DDB_FULLTEXT",
         "Tehal nach Brükcnes . Gewissenhafter deutscher Herr , # 8 . 30 Jahre , ev . , mittelcroß , mi gutem Geschäft u . Vermög . , sucht mit gutsituierter , wohlerzogener Dame zwecks Heirat bekannt zi werden . Jedes Bild wird retour niert . Briefe unter R S 673 n die Ann . - Exp . Bonacker & amp ; Rantz , Düsseldorf .",
         "2025-07-09_18_04"
        ],
        [
         "2",
         "23JRMGNQTVLEGWUXLZ6D34KX4C4GCJNH-ALTO7691058_DDB_FULLTEXT",
         "Suche f . meine Nichte ohne d . Wissen S teinen Lebensgefährten . It . Fülsche Erschelnung , wisenschaft . gebilbet , muslkalich , im Haushzalt er sahren . Gute Aussteuer , Vermögen 500 . . P Mi . hgift 15000 . 4 Angeh . u . M S 609 an die Exp . d . Bl .",
         "2025-07-09_18_04"
        ],
        [
         "3",
         "245BHDGA6W5OOYPCWEGLHABY6LM7YNXP-ALTO7758526_DDB_FULLTEXT",
         "Energischer Reisender . , 27 . , sucht Engagement in einem E naus mit späterer Be iligung oder Einheirat . Angeb . K LU 199 an R . Mosse , Köln . ( 2",
         "2025-07-09_18_04"
        ],
        [
         "4",
         "24KXQUATL73II54JILODDITR7CKGE7L4-ALTO2320495_DDB_FULLTEXT",
         "Das kleine „Heiratsgesuch“ in der illustrierten Sonntagszeitung „Die Bastion“ hat schon viele einsame Menschen zu glücklichem Herzensbunde zusammengeführt . Beschreite auch du einmal diesen Weg zum „Sichfinden“ . Alle private Klein - Anzeigen in der „Bastion“ sind stark verbilligt : das fette Ueberschriftswort kostet 30 Pf . alle übrigen Textworte nur je 10P1 .",
         "2025-07-09_18_04"
        ],
        [
         "5",
         "2537G7CWASBPS3RB4D6HOOJCTI3X6P24-ALTO372289_DDB_FULLTEXT",
         "Heiratsgesuch . Witwer , kath . , 36 . , 2 Kinder , 9 u . 7 . , sol . Handw . , in durch aus sich . Lebensst . , 1900 . K Eink . , s . Bekann sch . ein , kath . Mädch . ohn . Anhang , m . gut . Vergangenh . , welches Liebe zu Kindern hat , 30 • 36 J . alt . Verschwieg . zuges . Off . u . M 19 an die Hauptver tritung Nippes , Viersenerstr 6 .",
         "2025-07-09_18_04"
        ],
        [
         "6",
         "254IA3LVBUBODIO6NDVHDOJOA654B5KT-ALTO10118878_DDB_FULLTEXT",
         "Neelles Heiratsgesuch . Junggeselle vom Lande , Mitte 30 Jahre , kath . , wünscht Mädchen vom Lande oder Wwe . nicht aus geschlossen , kennen zu lernen . Offerten bitte möglichst mit Bild unter C K 168 an die Exped . d . Zeitung einsenden zu wollen .",
         "2025-07-09_18_04"
        ],
        [
         "7",
         "257JWTXYMDZQIF4DFV67FVD6FCP7MNN3-ALTO10158655_DDB_FULLTEXT",
         "Heiratsgesuch . Junger Mann , gebildet , an genehmes Aussehen , sucht intelligentes Fräulein mit etwas Vermögen zur bald . Neigungsheirat . Zuschriften unter K . S . 9131 an die Exp . d . Ztg .",
         "2025-07-09_18_04"
        ],
        [
         "8",
         "25EFYTTDJ6ZZXEVF33JRQTD6I3UXILDC-ALTO8101159_DDB_FULLTEXT",
         "Reelles Heiratsgesuch ähr Junger verm . B . Einkommen übe sitzer eines feinen Gesch . 26 J jausgrundstüc a es ih n Dam sucht , 0 ah I . schlt u . mi kant usland war , auf dies . Wer eine vermög . , häusliche Dame zwecks Heirat . Nur ernstmeinende Damen wollen ihre Phot . nebst genauen Angaben d . Verhältn . unter LE 5389 an die Ann .  Exp . Rudolf Mosse , Leipzi senden . Anonyme Briefe werder streng nicht berücksichigt , Diskretion Ehrensache .",
         "2025-07-09_18_04"
        ],
        [
         "9",
         "25FPH6FZUIBNZJYXMXXDMC7CKZH6Q7E6-ALTO8702702_DDB_FULLTEXT",
         "Mariage . Wohlhbd . Fabrikbes . , jung . , an sehnl . , sucht zwecks Heirat hübsche schlanke Dame bis 26 Jahre kennen z . lernen . ohn . Kind nicht ausgeschl . Ver nög . nicht erfordl . Nichtanonym . Angeb . mit Bild , welch hrenw . innerhalb 14 Tag . zurü ges . u unt . D 5446 an Daube & amp ; Co . Berlin SW 19 , Jerusaleme Str . 11/12 , erbeten",
         "2025-07-09_18_04"
        ]
       ],
       "shape": {
        "columns": 3,
        "rows": 10
       }
      },
      "text/html": [
       "<div>\n",
       "<style scoped>\n",
       "    .dataframe tbody tr th:only-of-type {\n",
       "        vertical-align: middle;\n",
       "    }\n",
       "\n",
       "    .dataframe tbody tr th {\n",
       "        vertical-align: top;\n",
       "    }\n",
       "\n",
       "    .dataframe thead th {\n",
       "        text-align: right;\n",
       "    }\n",
       "</style>\n",
       "<table border=\"1\" class=\"dataframe\">\n",
       "  <thead>\n",
       "    <tr style=\"text-align: right;\">\n",
       "      <th></th>\n",
       "      <th>page_id</th>\n",
       "      <th>text</th>\n",
       "      <th>time</th>\n",
       "    </tr>\n",
       "  </thead>\n",
       "  <tbody>\n",
       "    <tr>\n",
       "      <th>0</th>\n",
       "      <td>22KVFOV36KTZS67POXRNU5DJKD4XYSPI-ALTO1934911_D...</td>\n",
       "      <td>Suche für meine Tochter , 18 Jahre , Stelle al...</td>\n",
       "      <td>2025-07-09_18_04</td>\n",
       "    </tr>\n",
       "    <tr>\n",
       "      <th>1</th>\n",
       "      <td>23GSP3TO42E3USTLALB2X5EHUMBSEOWM-ALTO8960309_D...</td>\n",
       "      <td>Tehal nach Brükcnes . Gewissenhafter deutscher...</td>\n",
       "      <td>2025-07-09_18_04</td>\n",
       "    </tr>\n",
       "    <tr>\n",
       "      <th>2</th>\n",
       "      <td>23JRMGNQTVLEGWUXLZ6D34KX4C4GCJNH-ALTO7691058_D...</td>\n",
       "      <td>Suche f . meine Nichte ohne d . Wissen S teine...</td>\n",
       "      <td>2025-07-09_18_04</td>\n",
       "    </tr>\n",
       "    <tr>\n",
       "      <th>3</th>\n",
       "      <td>245BHDGA6W5OOYPCWEGLHABY6LM7YNXP-ALTO7758526_D...</td>\n",
       "      <td>Energischer Reisender . , 27 . , sucht Engagem...</td>\n",
       "      <td>2025-07-09_18_04</td>\n",
       "    </tr>\n",
       "    <tr>\n",
       "      <th>4</th>\n",
       "      <td>24KXQUATL73II54JILODDITR7CKGE7L4-ALTO2320495_D...</td>\n",
       "      <td>Das kleine „Heiratsgesuch“ in der illustrierte...</td>\n",
       "      <td>2025-07-09_18_04</td>\n",
       "    </tr>\n",
       "    <tr>\n",
       "      <th>5</th>\n",
       "      <td>2537G7CWASBPS3RB4D6HOOJCTI3X6P24-ALTO372289_DD...</td>\n",
       "      <td>Heiratsgesuch . Witwer , kath . , 36 . , 2 Kin...</td>\n",
       "      <td>2025-07-09_18_04</td>\n",
       "    </tr>\n",
       "    <tr>\n",
       "      <th>6</th>\n",
       "      <td>254IA3LVBUBODIO6NDVHDOJOA654B5KT-ALTO10118878_...</td>\n",
       "      <td>Neelles Heiratsgesuch . Junggeselle vom Lande ...</td>\n",
       "      <td>2025-07-09_18_04</td>\n",
       "    </tr>\n",
       "    <tr>\n",
       "      <th>7</th>\n",
       "      <td>257JWTXYMDZQIF4DFV67FVD6FCP7MNN3-ALTO10158655_...</td>\n",
       "      <td>Heiratsgesuch . Junger Mann , gebildet , an ge...</td>\n",
       "      <td>2025-07-09_18_04</td>\n",
       "    </tr>\n",
       "    <tr>\n",
       "      <th>8</th>\n",
       "      <td>25EFYTTDJ6ZZXEVF33JRQTD6I3UXILDC-ALTO8101159_D...</td>\n",
       "      <td>Reelles Heiratsgesuch ähr Junger verm . B . Ei...</td>\n",
       "      <td>2025-07-09_18_04</td>\n",
       "    </tr>\n",
       "    <tr>\n",
       "      <th>9</th>\n",
       "      <td>25FPH6FZUIBNZJYXMXXDMC7CKZH6Q7E6-ALTO8702702_D...</td>\n",
       "      <td>Mariage . Wohlhbd . Fabrikbes . , jung . , an ...</td>\n",
       "      <td>2025-07-09_18_04</td>\n",
       "    </tr>\n",
       "  </tbody>\n",
       "</table>\n",
       "</div>"
      ],
      "text/plain": [
       "                                             page_id  \\\n",
       "0  22KVFOV36KTZS67POXRNU5DJKD4XYSPI-ALTO1934911_D...   \n",
       "1  23GSP3TO42E3USTLALB2X5EHUMBSEOWM-ALTO8960309_D...   \n",
       "2  23JRMGNQTVLEGWUXLZ6D34KX4C4GCJNH-ALTO7691058_D...   \n",
       "3  245BHDGA6W5OOYPCWEGLHABY6LM7YNXP-ALTO7758526_D...   \n",
       "4  24KXQUATL73II54JILODDITR7CKGE7L4-ALTO2320495_D...   \n",
       "5  2537G7CWASBPS3RB4D6HOOJCTI3X6P24-ALTO372289_DD...   \n",
       "6  254IA3LVBUBODIO6NDVHDOJOA654B5KT-ALTO10118878_...   \n",
       "7  257JWTXYMDZQIF4DFV67FVD6FCP7MNN3-ALTO10158655_...   \n",
       "8  25EFYTTDJ6ZZXEVF33JRQTD6I3UXILDC-ALTO8101159_D...   \n",
       "9  25FPH6FZUIBNZJYXMXXDMC7CKZH6Q7E6-ALTO8702702_D...   \n",
       "\n",
       "                                                text              time  \n",
       "0  Suche für meine Tochter , 18 Jahre , Stelle al...  2025-07-09_18_04  \n",
       "1  Tehal nach Brükcnes . Gewissenhafter deutscher...  2025-07-09_18_04  \n",
       "2  Suche f . meine Nichte ohne d . Wissen S teine...  2025-07-09_18_04  \n",
       "3  Energischer Reisender . , 27 . , sucht Engagem...  2025-07-09_18_04  \n",
       "4  Das kleine „Heiratsgesuch“ in der illustrierte...  2025-07-09_18_04  \n",
       "5  Heiratsgesuch . Witwer , kath . , 36 . , 2 Kin...  2025-07-09_18_04  \n",
       "6  Neelles Heiratsgesuch . Junggeselle vom Lande ...  2025-07-09_18_04  \n",
       "7  Heiratsgesuch . Junger Mann , gebildet , an ge...  2025-07-09_18_04  \n",
       "8  Reelles Heiratsgesuch ähr Junger verm . B . Ei...  2025-07-09_18_04  \n",
       "9  Mariage . Wohlhbd . Fabrikbes . , jung . , an ...  2025-07-09_18_04  "
      ]
     },
     "execution_count": 3,
     "metadata": {},
     "output_type": "execute_result"
    }
   ],
   "source": [
    "n = 10 # number of rows we want to process\n",
    "\n",
    "df = pd.read_pickle(\"ddbapi_data_koeln.pkl\")\n",
    "df = df.head(n)\n",
    "information_extractor = InformationExtractor(df=df, page_id_colname=\"page_id\", text_colname=\"plainpagefulltext\", output_filename=\"out_df.csv\")\n",
    "#Set this configuration to true - default is false\n",
    "information_extractor.save_one_result_per_row = True\n",
    "ergebnis_df = information_extractor.extract_data_loop(max_n = 10)\n",
    "ergebnis_df"
   ]
  },
  {
   "cell_type": "code",
   "execution_count": 5,
   "id": "f7d4eca9",
   "metadata": {},
   "outputs": [],
   "source": [
    "\n",
    "n_correction = len(ergebnis_df)\n",
    "ocr_corrector = InformationExtractor(df=ergebnis_df, page_id_colname=\"page_id\", text_colname=\"text\", output_filename=\"ocr_corrected_df.csv\")\n",
    "#Set the configs for the task to perform\n",
    "ocr_corrector.prompt = fw_config[\"CORRECTION_PROMPT\"]\n",
    "ocr_corrector.model_name = fw_config[\"model_name\"]\n",
    "data_corrected = ocr_corrector.extract_data_loop(n_correction)\n",
    "\n"
   ]
  },
  {
   "cell_type": "code",
   "execution_count": 6,
   "id": "3485a23e",
   "metadata": {},
   "outputs": [
    {
     "data": {
      "application/vnd.microsoft.datawrangler.viewer.v0+json": {
       "columns": [
        {
         "name": "index",
         "rawType": "int64",
         "type": "integer"
        },
        {
         "name": "page_id",
         "rawType": "object",
         "type": "string"
        },
        {
         "name": "text",
         "rawType": "object",
         "type": "string"
        },
        {
         "name": "time",
         "rawType": "object",
         "type": "string"
        }
       ],
       "ref": "7f42c1ea-9838-4a29-ae99-982706a5772b",
       "rows": [
        [
         "0",
         "22KVFOV36KTZS67POXRNU5DJKD4XYSPI-ALTO1934911_DDB_FULLTEXT",
         "Suche für meine Tochter, 18 Jahre, Stelle als angeh. Arbeiterin in kathol. Hause bei Familienanschl. in Bonn oder Umgegend. Angebote u. A. K. A. 4368.",
         "2025-07-09_18_07"
        ],
        [
         "1",
         "23GSP3TO42E3USTLALB2X5EHUMBSEOWM-ALTO8960309_DDB_FULLTEXT",
         "Tehal nach Brückner. Gewissenhafter deutscher Herr, 30 Jahre, ev., mittelgroß, mit gutem Geschäft u. Vermögen, sucht mit gutsituierter, wohlerzogener Dame zwecks Heirat bekannt zu werden. Jedes Bild wird retourniert. Briefe unter R S 673 an die Ann.-Exp. Bonacker & Rantz, Düsseldorf.",
         "2025-07-09_18_07"
        ],
        [
         "2",
         "23JRMGNQTVLEGWUXLZ6D34KX4C4GCJNH-ALTO7691058_DDB_FULLTEXT",
         "Suche für meine Nichte ohne das Wissen ihrer Lebensgefährten. Ihr Äußere Erscheinung, wissenschaftlich gebildet, musikalisch, im Haushalt erfahren. Gute Aussteuer, Vermögen 500. Mitgift 15000. Anfrage unter MS 609 an die Exp. d. Bl.",
         "2025-07-09_18_07"
        ],
        [
         "3",
         "245BHDGA6W5OOYPCWEGLHABY6LM7YNXP-ALTO7758526_DDB_FULLTEXT",
         "Energischer Reisender, 27, sucht Engagement in einem Haus mit späterer Beteiligung oder Einheirat. Angeb. K LU 199 an R. Mosse, Köln.",
         "2025-07-09_18_07"
        ],
        [
         "4",
         "24KXQUATL73II54JILODDITR7CKGE7L4-ALTO2320495_DDB_FULLTEXT",
         "Das kleine „Heiratsgesuch“ in der illustrierten Sonntagszeitung „Die Bastion“ hat schon viele einsame Menschen zu glücklichem Herzensbunde zusammengeführt. Beschreite auch du einmal diesen Weg zum „Sichfinden“. Alle private Klein-Anzeigen in der „Bastion“ sind stark verbilligt: das fette Ueberschriftswort kostet 30 Pf. alle übrigen Textworte nur je 10P1.",
         "2025-07-09_18_07"
        ],
        [
         "5",
         "2537G7CWASBPS3RB4D6HOOJCTI3X6P24-ALTO372289_DDB_FULLTEXT",
         "Heiratsgesuch. Witwer, kath., 36, 2 Kinder, 9 u. 7, sol. Handw., in durchaus sich. Lebensst., 1900 K Eink., s. Bekanntsch. ein, kath. Mädch. ohn. Anhang, m. gut. Vergangen, welches Liebe zu Kindern hat, 30 - 36 J. alt. Verschwieg. zuges. Off. u. M 19 an die Hauptvertretung Nippes, Viersenerstr 6.",
         "2025-07-09_18_07"
        ],
        [
         "6",
         "254IA3LVBUBODIO6NDVHDOJOA654B5KT-ALTO10118878_DDB_FULLTEXT",
         "Neelles Heiratsgesuch. Junggeselle vom Lande, Mitte 30 Jahre, kath., wünscht Mädchen vom Lande oder Wwe. nicht ausgeschlossen, kennen zu lernen. Offerten bitte möglichst mit Bild unter C K 168 an die Exped. d. Zeitung einsenden zu wollen.",
         "2025-07-09_18_07"
        ],
        [
         "7",
         "257JWTXYMDZQIF4DFV67FVD6FCP7MNN3-ALTO10158655_DDB_FULLTEXT",
         "Heiratsgesuch. Junger Mann, gebildet, angenehmes Aussehen, sucht intelligentes Fräulein mit etwas Vermögen zur bald. Neigungsheirat. Zuschriften unter K. S. 9131 an die Exp. d. Ztg.",
         "2025-07-09_18_07"
        ],
        [
         "8",
         "25EFYTTDJ6ZZXEVF33JRQTD6I3UXILDC-ALTO8101159_DDB_FULLTEXT",
         "Reelles Heiratsgesuch. Junger verm. B. Einkommen, Besitzer eines feinen Grundstücke. 26 J. sucht Dame, die ihn Dam. sucht, Ausland war, auf dies. Wer eine vermög., häusliche Dame zwecks Heirat. Nur ernstmeinende Damen wollen ihre Phot. nebst genauen Angaben d. Verhältn. unter LE 5389 an die Ann. Exp. Rudolf Mosse, Leipzig senden. Anonyme Briefe werden streng nicht berücksichtigt, Diskretion Ehrensache.",
         "2025-07-09_18_07"
        ],
        [
         "9",
         "25FPH6FZUIBNZJYXMXXDMC7CKZH6Q7E6-ALTO8702702_DDB_FULLTEXT",
         "Mariage. Wohlhabender Fabrikbesitzer, jung, ansehnlich, sucht zwecks Heirat hübsche schlanke Dame bis 26 Jahre kennenzulernen, ohne Kind nicht ausgeschlossen. Vermögen nicht erforderlich. Nichtanonyme Angebote mit Bild, welche ehrenwert innerhalb 14 Tagen zurückgesandt und unter D 5446 an Daube & Co., Berlin SW 19, Jerusalemer Str. 11/12, erbeten",
         "2025-07-09_18_07"
        ]
       ],
       "shape": {
        "columns": 3,
        "rows": 10
       }
      },
      "text/html": [
       "<div>\n",
       "<style scoped>\n",
       "    .dataframe tbody tr th:only-of-type {\n",
       "        vertical-align: middle;\n",
       "    }\n",
       "\n",
       "    .dataframe tbody tr th {\n",
       "        vertical-align: top;\n",
       "    }\n",
       "\n",
       "    .dataframe thead th {\n",
       "        text-align: right;\n",
       "    }\n",
       "</style>\n",
       "<table border=\"1\" class=\"dataframe\">\n",
       "  <thead>\n",
       "    <tr style=\"text-align: right;\">\n",
       "      <th></th>\n",
       "      <th>page_id</th>\n",
       "      <th>text</th>\n",
       "      <th>time</th>\n",
       "    </tr>\n",
       "  </thead>\n",
       "  <tbody>\n",
       "    <tr>\n",
       "      <th>0</th>\n",
       "      <td>22KVFOV36KTZS67POXRNU5DJKD4XYSPI-ALTO1934911_D...</td>\n",
       "      <td>Suche für meine Tochter, 18 Jahre, Stelle als ...</td>\n",
       "      <td>2025-07-09_18_07</td>\n",
       "    </tr>\n",
       "    <tr>\n",
       "      <th>1</th>\n",
       "      <td>23GSP3TO42E3USTLALB2X5EHUMBSEOWM-ALTO8960309_D...</td>\n",
       "      <td>Tehal nach Brückner. Gewissenhafter deutscher ...</td>\n",
       "      <td>2025-07-09_18_07</td>\n",
       "    </tr>\n",
       "    <tr>\n",
       "      <th>2</th>\n",
       "      <td>23JRMGNQTVLEGWUXLZ6D34KX4C4GCJNH-ALTO7691058_D...</td>\n",
       "      <td>Suche für meine Nichte ohne das Wissen ihrer L...</td>\n",
       "      <td>2025-07-09_18_07</td>\n",
       "    </tr>\n",
       "    <tr>\n",
       "      <th>3</th>\n",
       "      <td>245BHDGA6W5OOYPCWEGLHABY6LM7YNXP-ALTO7758526_D...</td>\n",
       "      <td>Energischer Reisender, 27, sucht Engagement in...</td>\n",
       "      <td>2025-07-09_18_07</td>\n",
       "    </tr>\n",
       "    <tr>\n",
       "      <th>4</th>\n",
       "      <td>24KXQUATL73II54JILODDITR7CKGE7L4-ALTO2320495_D...</td>\n",
       "      <td>Das kleine „Heiratsgesuch“ in der illustrierte...</td>\n",
       "      <td>2025-07-09_18_07</td>\n",
       "    </tr>\n",
       "    <tr>\n",
       "      <th>5</th>\n",
       "      <td>2537G7CWASBPS3RB4D6HOOJCTI3X6P24-ALTO372289_DD...</td>\n",
       "      <td>Heiratsgesuch. Witwer, kath., 36, 2 Kinder, 9 ...</td>\n",
       "      <td>2025-07-09_18_07</td>\n",
       "    </tr>\n",
       "    <tr>\n",
       "      <th>6</th>\n",
       "      <td>254IA3LVBUBODIO6NDVHDOJOA654B5KT-ALTO10118878_...</td>\n",
       "      <td>Neelles Heiratsgesuch. Junggeselle vom Lande, ...</td>\n",
       "      <td>2025-07-09_18_07</td>\n",
       "    </tr>\n",
       "    <tr>\n",
       "      <th>7</th>\n",
       "      <td>257JWTXYMDZQIF4DFV67FVD6FCP7MNN3-ALTO10158655_...</td>\n",
       "      <td>Heiratsgesuch. Junger Mann, gebildet, angenehm...</td>\n",
       "      <td>2025-07-09_18_07</td>\n",
       "    </tr>\n",
       "    <tr>\n",
       "      <th>8</th>\n",
       "      <td>25EFYTTDJ6ZZXEVF33JRQTD6I3UXILDC-ALTO8101159_D...</td>\n",
       "      <td>Reelles Heiratsgesuch. Junger verm. B. Einkomm...</td>\n",
       "      <td>2025-07-09_18_07</td>\n",
       "    </tr>\n",
       "    <tr>\n",
       "      <th>9</th>\n",
       "      <td>25FPH6FZUIBNZJYXMXXDMC7CKZH6Q7E6-ALTO8702702_D...</td>\n",
       "      <td>Mariage. Wohlhabender Fabrikbesitzer, jung, an...</td>\n",
       "      <td>2025-07-09_18_07</td>\n",
       "    </tr>\n",
       "  </tbody>\n",
       "</table>\n",
       "</div>"
      ],
      "text/plain": [
       "                                             page_id  \\\n",
       "0  22KVFOV36KTZS67POXRNU5DJKD4XYSPI-ALTO1934911_D...   \n",
       "1  23GSP3TO42E3USTLALB2X5EHUMBSEOWM-ALTO8960309_D...   \n",
       "2  23JRMGNQTVLEGWUXLZ6D34KX4C4GCJNH-ALTO7691058_D...   \n",
       "3  245BHDGA6W5OOYPCWEGLHABY6LM7YNXP-ALTO7758526_D...   \n",
       "4  24KXQUATL73II54JILODDITR7CKGE7L4-ALTO2320495_D...   \n",
       "5  2537G7CWASBPS3RB4D6HOOJCTI3X6P24-ALTO372289_DD...   \n",
       "6  254IA3LVBUBODIO6NDVHDOJOA654B5KT-ALTO10118878_...   \n",
       "7  257JWTXYMDZQIF4DFV67FVD6FCP7MNN3-ALTO10158655_...   \n",
       "8  25EFYTTDJ6ZZXEVF33JRQTD6I3UXILDC-ALTO8101159_D...   \n",
       "9  25FPH6FZUIBNZJYXMXXDMC7CKZH6Q7E6-ALTO8702702_D...   \n",
       "\n",
       "                                                text              time  \n",
       "0  Suche für meine Tochter, 18 Jahre, Stelle als ...  2025-07-09_18_07  \n",
       "1  Tehal nach Brückner. Gewissenhafter deutscher ...  2025-07-09_18_07  \n",
       "2  Suche für meine Nichte ohne das Wissen ihrer L...  2025-07-09_18_07  \n",
       "3  Energischer Reisender, 27, sucht Engagement in...  2025-07-09_18_07  \n",
       "4  Das kleine „Heiratsgesuch“ in der illustrierte...  2025-07-09_18_07  \n",
       "5  Heiratsgesuch. Witwer, kath., 36, 2 Kinder, 9 ...  2025-07-09_18_07  \n",
       "6  Neelles Heiratsgesuch. Junggeselle vom Lande, ...  2025-07-09_18_07  \n",
       "7  Heiratsgesuch. Junger Mann, gebildet, angenehm...  2025-07-09_18_07  \n",
       "8  Reelles Heiratsgesuch. Junger verm. B. Einkomm...  2025-07-09_18_07  \n",
       "9  Mariage. Wohlhabender Fabrikbesitzer, jung, an...  2025-07-09_18_07  "
      ]
     },
     "execution_count": 6,
     "metadata": {},
     "output_type": "execute_result"
    }
   ],
   "source": [
    "data_corrected"
   ]
  },
  {
   "cell_type": "code",
   "execution_count": 9,
   "id": "8fbf79b1",
   "metadata": {},
   "outputs": [],
   "source": [
    "n_correction = len(data_corrected)\n",
    "\n",
    "word_completion = InformationExtractor(df=data_corrected, page_id_colname=\"page_id\", text_colname=\"text\", output_filename=\"ocr_corrected_df.csv\")\n",
    "#Set the configs for the task to perform\n",
    "word_completion.prompt = fw_config[\"COMPLETION_PROMPT\"]\n",
    "word_completion.model_name = fw_config[\"model_name\"]\n",
    "data_word_completed = word_completion.extract_data_loop(n_correction)\n",
    "\n"
   ]
  },
  {
   "cell_type": "code",
   "execution_count": 10,
   "id": "d0f00e5d",
   "metadata": {},
   "outputs": [
    {
     "data": {
      "application/vnd.microsoft.datawrangler.viewer.v0+json": {
       "columns": [
        {
         "name": "index",
         "rawType": "int64",
         "type": "integer"
        },
        {
         "name": "page_id",
         "rawType": "object",
         "type": "string"
        },
        {
         "name": "text",
         "rawType": "object",
         "type": "string"
        },
        {
         "name": "time",
         "rawType": "object",
         "type": "string"
        }
       ],
       "ref": "6e532b1e-0f6b-477a-b813-e0179956d7a2",
       "rows": [
        [
         "0",
         "22KVFOV36KTZS67POXRNU5DJKD4XYSPI-ALTO1934911_DDB_FULLTEXT",
         "Suche für meine Tochter, 18 Jahre, Stelle als angehende Arbeiterin in katholischem Hause bei Familienanschluss in Bonn oder Umgegend. Angebote unter Angabe K. A. 4368.",
         "2025-07-09_18_09"
        ],
        [
         "1",
         "23GSP3TO42E3USTLALB2X5EHUMBSEOWM-ALTO8960309_DDB_FULLTEXT",
         "Tehal nach Brückner. Gewissenhafter deutscher Herr, dreißig Jahre, evangelisch, mittelgroß, mit gutem Geschäft und Vermögen, sucht mit gutsituierter, wohlerzogener Dame zwecks Heirat bekannt zu werden. Jedes Bild wird retourniert. Briefe unter R S 673 an die Annoncen-Expedition Bonacker & Rantz, Düsseldorf.",
         "2025-07-09_18_09"
        ],
        [
         "2",
         "23JRMGNQTVLEGWUXLZ6D34KX4C4GCJNH-ALTO7691058_DDB_FULLTEXT",
         "Suche für meine Nichte ohne das Wissen ihrer Lebensgefährten. Ihr Äußere Erscheinung, wissenschaftlich gebildet, musikalisch, im Haushalt erfahren. Gute Aussteuer, Vermögen 500. Mitgift 15000. Anfrage unter MS 609 an die Expedition des Blattes.",
         "2025-07-09_18_09"
        ],
        [
         "3",
         "245BHDGA6W5OOYPCWEGLHABY6LM7YNXP-ALTO7758526_DDB_FULLTEXT",
         "Energischer Reisender, 27, sucht Engagement in einem Haus mit späterer Beteiligung oder Einheirat. Angebote unter Kennzeichen LU 199 an Rudolf Mosse, Köln.",
         "2025-07-09_18_09"
        ],
        [
         "4",
         "24KXQUATL73II54JILODDITR7CKGE7L4-ALTO2320495_DDB_FULLTEXT",
         "Das kleine „Heiratsgesuch“ in der illustrierten Sonntagszeitung „Die Bastion“ hat schon viele einsame Menschen zu glücklichem Herzensbunde zusammengeführt. Beschreite auch du einmal diesen Weg zum „Sichfinden“. Alle private Klein-Anzeigen in der „Bastion“ sind stark verbilligt: das fette Ueberschriftswort kostet 30 Pfennig alle übrigen Textworte nur je 10P1.",
         "2025-07-09_18_09"
        ],
        [
         "5",
         "2537G7CWASBPS3RB4D6HOOJCTI3X6P24-ALTO372289_DDB_FULLTEXT",
         "Heiratsgesuch. Witwer, katholisch, 36, 2 Kinder, 9 und 7, solider Handwerker, in durchaus sicherer Lebensstellung, 1900 K Einkommen, sucht Bekanntschaft mit einem katholischen Mädchen ohne Anhang, mit guter Vergangenheit, welches Liebe zu Kindern hat, 30 - 36 Jahre alt. Verschwiegenheit zugesichert. Offerten unter M 19 an die Hauptvertretung Nippes, Viersenerstraße 6.",
         "2025-07-09_18_09"
        ],
        [
         "6",
         "254IA3LVBUBODIO6NDVHDOJOA654B5KT-ALTO10118878_DDB_FULLTEXT",
         "Neelles Heiratsgesuch. Junggeselle vom Lande, Mitte 30 Jahre, katholisch, wünscht Mädchen vom Lande oder Witwe nicht ausgeschlossen, kennen zu lernen. Offerten bitte möglichst mit Bild unter C K 168 an die Expedition der Zeitung einsenden zu wollen.",
         "2025-07-09_18_09"
        ],
        [
         "7",
         "257JWTXYMDZQIF4DFV67FVD6FCP7MNN3-ALTO10158655_DDB_FULLTEXT",
         "Heiratsgesuch. Junger Mann, gebildet, angenehmes Aussehen, sucht intelligentes Fräulein mit etwas Vermögen zur baldiger Neigungsheirat. Zuschriften unter K. S. 9131 an die Expedition der Zeitung.",
         "2025-07-09_18_09"
        ],
        [
         "8",
         "25EFYTTDJ6ZZXEVF33JRQTD6I3UXILDC-ALTO8101159_DDB_FULLTEXT",
         "Reelles Heiratsgesuch. Junger, vermögender Mann mit gutem Einkommen, Besitzer eines feinen Grundstücks, 26 Jahre alt, sucht Dame, die ihn, Dame sucht, Ausland war, auf dieses. Wer eine vermögende, häusliche Dame zwecks Heirat sucht. Nur ernstmeinende Damen wollen ihre Photographie nebst genauen Angaben der Verhältnisse unter LE 5389 an die Annoncen Expedition Rudolf Mosse, Leipzig senden. Anonyme Briefe werden streng nicht berücksichtigt, Diskretion ist Ehrensache.",
         "2025-07-09_18_09"
        ],
        [
         "9",
         "25FPH6FZUIBNZJYXMXXDMC7CKZH6Q7E6-ALTO8702702_DDB_FULLTEXT",
         "Mariage. Wohlhabender Fabrikbesitzer, jung, ansehnlich, sucht zwecks Heirat hübsche schlanke Dame bis 26 Jahre kennenzulernen, ohne Kind nicht ausgeschlossen. Vermögen nicht erforderlich. Nichtanonyme Angebote mit Bild, welche ehrenwert innerhalb 14 Tagen zurückgesandt und unter D 5446 an Daube und Compagnie, Berlin Südwest 19, Jerusalemer Straße 11/12, erbeten",
         "2025-07-09_18_09"
        ]
       ],
       "shape": {
        "columns": 3,
        "rows": 10
       }
      },
      "text/html": [
       "<div>\n",
       "<style scoped>\n",
       "    .dataframe tbody tr th:only-of-type {\n",
       "        vertical-align: middle;\n",
       "    }\n",
       "\n",
       "    .dataframe tbody tr th {\n",
       "        vertical-align: top;\n",
       "    }\n",
       "\n",
       "    .dataframe thead th {\n",
       "        text-align: right;\n",
       "    }\n",
       "</style>\n",
       "<table border=\"1\" class=\"dataframe\">\n",
       "  <thead>\n",
       "    <tr style=\"text-align: right;\">\n",
       "      <th></th>\n",
       "      <th>page_id</th>\n",
       "      <th>text</th>\n",
       "      <th>time</th>\n",
       "    </tr>\n",
       "  </thead>\n",
       "  <tbody>\n",
       "    <tr>\n",
       "      <th>0</th>\n",
       "      <td>22KVFOV36KTZS67POXRNU5DJKD4XYSPI-ALTO1934911_D...</td>\n",
       "      <td>Suche für meine Tochter, 18 Jahre, Stelle als ...</td>\n",
       "      <td>2025-07-09_18_09</td>\n",
       "    </tr>\n",
       "    <tr>\n",
       "      <th>1</th>\n",
       "      <td>23GSP3TO42E3USTLALB2X5EHUMBSEOWM-ALTO8960309_D...</td>\n",
       "      <td>Tehal nach Brückner. Gewissenhafter deutscher ...</td>\n",
       "      <td>2025-07-09_18_09</td>\n",
       "    </tr>\n",
       "    <tr>\n",
       "      <th>2</th>\n",
       "      <td>23JRMGNQTVLEGWUXLZ6D34KX4C4GCJNH-ALTO7691058_D...</td>\n",
       "      <td>Suche für meine Nichte ohne das Wissen ihrer L...</td>\n",
       "      <td>2025-07-09_18_09</td>\n",
       "    </tr>\n",
       "    <tr>\n",
       "      <th>3</th>\n",
       "      <td>245BHDGA6W5OOYPCWEGLHABY6LM7YNXP-ALTO7758526_D...</td>\n",
       "      <td>Energischer Reisender, 27, sucht Engagement in...</td>\n",
       "      <td>2025-07-09_18_09</td>\n",
       "    </tr>\n",
       "    <tr>\n",
       "      <th>4</th>\n",
       "      <td>24KXQUATL73II54JILODDITR7CKGE7L4-ALTO2320495_D...</td>\n",
       "      <td>Das kleine „Heiratsgesuch“ in der illustrierte...</td>\n",
       "      <td>2025-07-09_18_09</td>\n",
       "    </tr>\n",
       "    <tr>\n",
       "      <th>5</th>\n",
       "      <td>2537G7CWASBPS3RB4D6HOOJCTI3X6P24-ALTO372289_DD...</td>\n",
       "      <td>Heiratsgesuch. Witwer, katholisch, 36, 2 Kinde...</td>\n",
       "      <td>2025-07-09_18_09</td>\n",
       "    </tr>\n",
       "    <tr>\n",
       "      <th>6</th>\n",
       "      <td>254IA3LVBUBODIO6NDVHDOJOA654B5KT-ALTO10118878_...</td>\n",
       "      <td>Neelles Heiratsgesuch. Junggeselle vom Lande, ...</td>\n",
       "      <td>2025-07-09_18_09</td>\n",
       "    </tr>\n",
       "    <tr>\n",
       "      <th>7</th>\n",
       "      <td>257JWTXYMDZQIF4DFV67FVD6FCP7MNN3-ALTO10158655_...</td>\n",
       "      <td>Heiratsgesuch. Junger Mann, gebildet, angenehm...</td>\n",
       "      <td>2025-07-09_18_09</td>\n",
       "    </tr>\n",
       "    <tr>\n",
       "      <th>8</th>\n",
       "      <td>25EFYTTDJ6ZZXEVF33JRQTD6I3UXILDC-ALTO8101159_D...</td>\n",
       "      <td>Reelles Heiratsgesuch. Junger, vermögender Man...</td>\n",
       "      <td>2025-07-09_18_09</td>\n",
       "    </tr>\n",
       "    <tr>\n",
       "      <th>9</th>\n",
       "      <td>25FPH6FZUIBNZJYXMXXDMC7CKZH6Q7E6-ALTO8702702_D...</td>\n",
       "      <td>Mariage. Wohlhabender Fabrikbesitzer, jung, an...</td>\n",
       "      <td>2025-07-09_18_09</td>\n",
       "    </tr>\n",
       "  </tbody>\n",
       "</table>\n",
       "</div>"
      ],
      "text/plain": [
       "                                             page_id  \\\n",
       "0  22KVFOV36KTZS67POXRNU5DJKD4XYSPI-ALTO1934911_D...   \n",
       "1  23GSP3TO42E3USTLALB2X5EHUMBSEOWM-ALTO8960309_D...   \n",
       "2  23JRMGNQTVLEGWUXLZ6D34KX4C4GCJNH-ALTO7691058_D...   \n",
       "3  245BHDGA6W5OOYPCWEGLHABY6LM7YNXP-ALTO7758526_D...   \n",
       "4  24KXQUATL73II54JILODDITR7CKGE7L4-ALTO2320495_D...   \n",
       "5  2537G7CWASBPS3RB4D6HOOJCTI3X6P24-ALTO372289_DD...   \n",
       "6  254IA3LVBUBODIO6NDVHDOJOA654B5KT-ALTO10118878_...   \n",
       "7  257JWTXYMDZQIF4DFV67FVD6FCP7MNN3-ALTO10158655_...   \n",
       "8  25EFYTTDJ6ZZXEVF33JRQTD6I3UXILDC-ALTO8101159_D...   \n",
       "9  25FPH6FZUIBNZJYXMXXDMC7CKZH6Q7E6-ALTO8702702_D...   \n",
       "\n",
       "                                                text              time  \n",
       "0  Suche für meine Tochter, 18 Jahre, Stelle als ...  2025-07-09_18_09  \n",
       "1  Tehal nach Brückner. Gewissenhafter deutscher ...  2025-07-09_18_09  \n",
       "2  Suche für meine Nichte ohne das Wissen ihrer L...  2025-07-09_18_09  \n",
       "3  Energischer Reisender, 27, sucht Engagement in...  2025-07-09_18_09  \n",
       "4  Das kleine „Heiratsgesuch“ in der illustrierte...  2025-07-09_18_09  \n",
       "5  Heiratsgesuch. Witwer, katholisch, 36, 2 Kinde...  2025-07-09_18_09  \n",
       "6  Neelles Heiratsgesuch. Junggeselle vom Lande, ...  2025-07-09_18_09  \n",
       "7  Heiratsgesuch. Junger Mann, gebildet, angenehm...  2025-07-09_18_09  \n",
       "8  Reelles Heiratsgesuch. Junger, vermögender Man...  2025-07-09_18_09  \n",
       "9  Mariage. Wohlhabender Fabrikbesitzer, jung, an...  2025-07-09_18_09  "
      ]
     },
     "execution_count": 10,
     "metadata": {},
     "output_type": "execute_result"
    }
   ],
   "source": [
    "data_word_completed"
   ]
  },
  {
   "cell_type": "code",
   "execution_count": 12,
   "id": "4fbdb8d0",
   "metadata": {},
   "outputs": [
    {
     "data": {
      "application/vnd.microsoft.datawrangler.viewer.v0+json": {
       "columns": [
        {
         "name": "index",
         "rawType": "int64",
         "type": "integer"
        },
        {
         "name": "text",
         "rawType": "object",
         "type": "string"
        },
        {
         "name": "text_completed",
         "rawType": "object",
         "type": "string"
        }
       ],
       "ref": "8ceb6bcb-adf0-4bac-9422-65c3f3a9dcaa",
       "rows": [
        [
         "0",
         "Suche für meine Tochter, 18 Jahre, Stelle als angeh. Arbeiterin in kathol. Hause bei Familienanschl. in Bonn oder Umgegend. Angebote u. A. K. A. 4368.",
         "Suche für meine Tochter, 18 Jahre, Stelle als angehende Arbeiterin in katholischem Hause bei Familienanschluss in Bonn oder Umgegend. Angebote unter Angabe K. A. 4368."
        ],
        [
         "1",
         "Tehal nach Brückner. Gewissenhafter deutscher Herr, 30 Jahre, ev., mittelgroß, mit gutem Geschäft u. Vermögen, sucht mit gutsituierter, wohlerzogener Dame zwecks Heirat bekannt zu werden. Jedes Bild wird retourniert. Briefe unter R S 673 an die Ann.-Exp. Bonacker & Rantz, Düsseldorf.",
         "Tehal nach Brückner. Gewissenhafter deutscher Herr, dreißig Jahre, evangelisch, mittelgroß, mit gutem Geschäft und Vermögen, sucht mit gutsituierter, wohlerzogener Dame zwecks Heirat bekannt zu werden. Jedes Bild wird retourniert. Briefe unter R S 673 an die Annoncen-Expedition Bonacker & Rantz, Düsseldorf."
        ],
        [
         "2",
         "Suche für meine Nichte ohne das Wissen ihrer Lebensgefährten. Ihr Äußere Erscheinung, wissenschaftlich gebildet, musikalisch, im Haushalt erfahren. Gute Aussteuer, Vermögen 500. Mitgift 15000. Anfrage unter MS 609 an die Exp. d. Bl.",
         "Suche für meine Nichte ohne das Wissen ihrer Lebensgefährten. Ihr Äußere Erscheinung, wissenschaftlich gebildet, musikalisch, im Haushalt erfahren. Gute Aussteuer, Vermögen 500. Mitgift 15000. Anfrage unter MS 609 an die Expedition des Blattes."
        ],
        [
         "3",
         "Energischer Reisender, 27, sucht Engagement in einem Haus mit späterer Beteiligung oder Einheirat. Angeb. K LU 199 an R. Mosse, Köln.",
         "Energischer Reisender, 27, sucht Engagement in einem Haus mit späterer Beteiligung oder Einheirat. Angebote unter Kennzeichen LU 199 an Rudolf Mosse, Köln."
        ],
        [
         "4",
         "Das kleine „Heiratsgesuch“ in der illustrierten Sonntagszeitung „Die Bastion“ hat schon viele einsame Menschen zu glücklichem Herzensbunde zusammengeführt. Beschreite auch du einmal diesen Weg zum „Sichfinden“. Alle private Klein-Anzeigen in der „Bastion“ sind stark verbilligt: das fette Ueberschriftswort kostet 30 Pf. alle übrigen Textworte nur je 10P1.",
         "Das kleine „Heiratsgesuch“ in der illustrierten Sonntagszeitung „Die Bastion“ hat schon viele einsame Menschen zu glücklichem Herzensbunde zusammengeführt. Beschreite auch du einmal diesen Weg zum „Sichfinden“. Alle private Klein-Anzeigen in der „Bastion“ sind stark verbilligt: das fette Ueberschriftswort kostet 30 Pfennig alle übrigen Textworte nur je 10P1."
        ],
        [
         "5",
         "Heiratsgesuch. Witwer, kath., 36, 2 Kinder, 9 u. 7, sol. Handw., in durchaus sich. Lebensst., 1900 K Eink., s. Bekanntsch. ein, kath. Mädch. ohn. Anhang, m. gut. Vergangen, welches Liebe zu Kindern hat, 30 - 36 J. alt. Verschwieg. zuges. Off. u. M 19 an die Hauptvertretung Nippes, Viersenerstr 6.",
         "Heiratsgesuch. Witwer, katholisch, 36, 2 Kinder, 9 und 7, solider Handwerker, in durchaus sicherer Lebensstellung, 1900 K Einkommen, sucht Bekanntschaft mit einem katholischen Mädchen ohne Anhang, mit guter Vergangenheit, welches Liebe zu Kindern hat, 30 - 36 Jahre alt. Verschwiegenheit zugesichert. Offerten unter M 19 an die Hauptvertretung Nippes, Viersenerstraße 6."
        ],
        [
         "6",
         "Neelles Heiratsgesuch. Junggeselle vom Lande, Mitte 30 Jahre, kath., wünscht Mädchen vom Lande oder Wwe. nicht ausgeschlossen, kennen zu lernen. Offerten bitte möglichst mit Bild unter C K 168 an die Exped. d. Zeitung einsenden zu wollen.",
         "Neelles Heiratsgesuch. Junggeselle vom Lande, Mitte 30 Jahre, katholisch, wünscht Mädchen vom Lande oder Witwe nicht ausgeschlossen, kennen zu lernen. Offerten bitte möglichst mit Bild unter C K 168 an die Expedition der Zeitung einsenden zu wollen."
        ],
        [
         "7",
         "Heiratsgesuch. Junger Mann, gebildet, angenehmes Aussehen, sucht intelligentes Fräulein mit etwas Vermögen zur bald. Neigungsheirat. Zuschriften unter K. S. 9131 an die Exp. d. Ztg.",
         "Heiratsgesuch. Junger Mann, gebildet, angenehmes Aussehen, sucht intelligentes Fräulein mit etwas Vermögen zur baldiger Neigungsheirat. Zuschriften unter K. S. 9131 an die Expedition der Zeitung."
        ],
        [
         "8",
         "Reelles Heiratsgesuch. Junger verm. B. Einkommen, Besitzer eines feinen Grundstücke. 26 J. sucht Dame, die ihn Dam. sucht, Ausland war, auf dies. Wer eine vermög., häusliche Dame zwecks Heirat. Nur ernstmeinende Damen wollen ihre Phot. nebst genauen Angaben d. Verhältn. unter LE 5389 an die Ann. Exp. Rudolf Mosse, Leipzig senden. Anonyme Briefe werden streng nicht berücksichtigt, Diskretion Ehrensache.",
         "Reelles Heiratsgesuch. Junger, vermögender Mann mit gutem Einkommen, Besitzer eines feinen Grundstücks, 26 Jahre alt, sucht Dame, die ihn, Dame sucht, Ausland war, auf dieses. Wer eine vermögende, häusliche Dame zwecks Heirat sucht. Nur ernstmeinende Damen wollen ihre Photographie nebst genauen Angaben der Verhältnisse unter LE 5389 an die Annoncen Expedition Rudolf Mosse, Leipzig senden. Anonyme Briefe werden streng nicht berücksichtigt, Diskretion ist Ehrensache."
        ],
        [
         "9",
         "Mariage. Wohlhabender Fabrikbesitzer, jung, ansehnlich, sucht zwecks Heirat hübsche schlanke Dame bis 26 Jahre kennenzulernen, ohne Kind nicht ausgeschlossen. Vermögen nicht erforderlich. Nichtanonyme Angebote mit Bild, welche ehrenwert innerhalb 14 Tagen zurückgesandt und unter D 5446 an Daube & Co., Berlin SW 19, Jerusalemer Str. 11/12, erbeten",
         "Mariage. Wohlhabender Fabrikbesitzer, jung, ansehnlich, sucht zwecks Heirat hübsche schlanke Dame bis 26 Jahre kennenzulernen, ohne Kind nicht ausgeschlossen. Vermögen nicht erforderlich. Nichtanonyme Angebote mit Bild, welche ehrenwert innerhalb 14 Tagen zurückgesandt und unter D 5446 an Daube und Compagnie, Berlin Südwest 19, Jerusalemer Straße 11/12, erbeten"
        ]
       ],
       "shape": {
        "columns": 2,
        "rows": 10
       }
      },
      "text/html": [
       "<div>\n",
       "<style scoped>\n",
       "    .dataframe tbody tr th:only-of-type {\n",
       "        vertical-align: middle;\n",
       "    }\n",
       "\n",
       "    .dataframe tbody tr th {\n",
       "        vertical-align: top;\n",
       "    }\n",
       "\n",
       "    .dataframe thead th {\n",
       "        text-align: right;\n",
       "    }\n",
       "</style>\n",
       "<table border=\"1\" class=\"dataframe\">\n",
       "  <thead>\n",
       "    <tr style=\"text-align: right;\">\n",
       "      <th></th>\n",
       "      <th>text</th>\n",
       "      <th>text_completed</th>\n",
       "    </tr>\n",
       "  </thead>\n",
       "  <tbody>\n",
       "    <tr>\n",
       "      <th>0</th>\n",
       "      <td>Suche für meine Tochter, 18 Jahre, Stelle als ...</td>\n",
       "      <td>Suche für meine Tochter, 18 Jahre, Stelle als ...</td>\n",
       "    </tr>\n",
       "    <tr>\n",
       "      <th>1</th>\n",
       "      <td>Tehal nach Brückner. Gewissenhafter deutscher ...</td>\n",
       "      <td>Tehal nach Brückner. Gewissenhafter deutscher ...</td>\n",
       "    </tr>\n",
       "    <tr>\n",
       "      <th>2</th>\n",
       "      <td>Suche für meine Nichte ohne das Wissen ihrer L...</td>\n",
       "      <td>Suche für meine Nichte ohne das Wissen ihrer L...</td>\n",
       "    </tr>\n",
       "    <tr>\n",
       "      <th>3</th>\n",
       "      <td>Energischer Reisender, 27, sucht Engagement in...</td>\n",
       "      <td>Energischer Reisender, 27, sucht Engagement in...</td>\n",
       "    </tr>\n",
       "    <tr>\n",
       "      <th>4</th>\n",
       "      <td>Das kleine „Heiratsgesuch“ in der illustrierte...</td>\n",
       "      <td>Das kleine „Heiratsgesuch“ in der illustrierte...</td>\n",
       "    </tr>\n",
       "    <tr>\n",
       "      <th>5</th>\n",
       "      <td>Heiratsgesuch. Witwer, kath., 36, 2 Kinder, 9 ...</td>\n",
       "      <td>Heiratsgesuch. Witwer, katholisch, 36, 2 Kinde...</td>\n",
       "    </tr>\n",
       "    <tr>\n",
       "      <th>6</th>\n",
       "      <td>Neelles Heiratsgesuch. Junggeselle vom Lande, ...</td>\n",
       "      <td>Neelles Heiratsgesuch. Junggeselle vom Lande, ...</td>\n",
       "    </tr>\n",
       "    <tr>\n",
       "      <th>7</th>\n",
       "      <td>Heiratsgesuch. Junger Mann, gebildet, angenehm...</td>\n",
       "      <td>Heiratsgesuch. Junger Mann, gebildet, angenehm...</td>\n",
       "    </tr>\n",
       "    <tr>\n",
       "      <th>8</th>\n",
       "      <td>Reelles Heiratsgesuch. Junger verm. B. Einkomm...</td>\n",
       "      <td>Reelles Heiratsgesuch. Junger, vermögender Man...</td>\n",
       "    </tr>\n",
       "    <tr>\n",
       "      <th>9</th>\n",
       "      <td>Mariage. Wohlhabender Fabrikbesitzer, jung, an...</td>\n",
       "      <td>Mariage. Wohlhabender Fabrikbesitzer, jung, an...</td>\n",
       "    </tr>\n",
       "  </tbody>\n",
       "</table>\n",
       "</div>"
      ],
      "text/plain": [
       "                                                text  \\\n",
       "0  Suche für meine Tochter, 18 Jahre, Stelle als ...   \n",
       "1  Tehal nach Brückner. Gewissenhafter deutscher ...   \n",
       "2  Suche für meine Nichte ohne das Wissen ihrer L...   \n",
       "3  Energischer Reisender, 27, sucht Engagement in...   \n",
       "4  Das kleine „Heiratsgesuch“ in der illustrierte...   \n",
       "5  Heiratsgesuch. Witwer, kath., 36, 2 Kinder, 9 ...   \n",
       "6  Neelles Heiratsgesuch. Junggeselle vom Lande, ...   \n",
       "7  Heiratsgesuch. Junger Mann, gebildet, angenehm...   \n",
       "8  Reelles Heiratsgesuch. Junger verm. B. Einkomm...   \n",
       "9  Mariage. Wohlhabender Fabrikbesitzer, jung, an...   \n",
       "\n",
       "                                      text_completed  \n",
       "0  Suche für meine Tochter, 18 Jahre, Stelle als ...  \n",
       "1  Tehal nach Brückner. Gewissenhafter deutscher ...  \n",
       "2  Suche für meine Nichte ohne das Wissen ihrer L...  \n",
       "3  Energischer Reisender, 27, sucht Engagement in...  \n",
       "4  Das kleine „Heiratsgesuch“ in der illustrierte...  \n",
       "5  Heiratsgesuch. Witwer, katholisch, 36, 2 Kinde...  \n",
       "6  Neelles Heiratsgesuch. Junggeselle vom Lande, ...  \n",
       "7  Heiratsgesuch. Junger Mann, gebildet, angenehm...  \n",
       "8  Reelles Heiratsgesuch. Junger, vermögender Man...  \n",
       "9  Mariage. Wohlhabender Fabrikbesitzer, jung, an...  "
      ]
     },
     "execution_count": 12,
     "metadata": {},
     "output_type": "execute_result"
    }
   ],
   "source": [
    "\n",
    "data_word_completed.columns = ['page_id_completed', 'text_completed', 'time_completed']\n",
    "merged_df = pd.concat([data_corrected, data_word_completed], axis = 1)\n",
    "merged_df = merged_df.filter([\"text\", \"text_completed\"])\n",
    "merged_df\n"
   ]
  },
  {
   "cell_type": "code",
   "execution_count": 13,
   "id": "9d78c001",
   "metadata": {},
   "outputs": [],
   "source": [
    "merged_df.to_pickle(\"results_after_full_workflow.pkl\")"
   ]
  }
 ],
 "metadata": {
  "kernelspec": {
   "display_name": "Python 3",
   "language": "python",
   "name": "python3"
  },
  "language_info": {
   "codemirror_mode": {
    "name": "ipython",
    "version": 3
   },
   "file_extension": ".py",
   "mimetype": "text/x-python",
   "name": "python",
   "nbconvert_exporter": "python",
   "pygments_lexer": "ipython3",
   "version": "3.13.2"
  }
 },
 "nbformat": 4,
 "nbformat_minor": 5
}
