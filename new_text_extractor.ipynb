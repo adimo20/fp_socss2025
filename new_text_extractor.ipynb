{
 "cells": [
  {
   "cell_type": "code",
   "execution_count": 2,
   "id": "f9bf3ac4",
   "metadata": {},
   "outputs": [],
   "source": [
    "import pandas as pd\n",
    "import google.generativeai as genai\n",
    "from scripts.schemes import ExtractedContent\n",
    "import os\n",
    "import json"
   ]
  },
  {
   "cell_type": "markdown",
   "id": "2add3a09",
   "metadata": {},
   "source": [
    "# Definieren einer Config\n",
    "\n",
    "- Diese Config kann für genau einen Task verwendet werden, sie benötigt einen genau die Keys die darin definiert sind. Diese müssen exakt übereinstimmen, da sie hardcoded sind."
   ]
  },
  {
   "cell_type": "code",
   "execution_count": 3,
   "id": "aa4d3bcb",
   "metadata": {},
   "outputs": [],
   "source": [
    "configs = {\n",
    "  \"API_KEY\" : os.environ.get(\"GEMINI_API_KEY\"),\n",
    " \n",
    "  \n",
    "  \"PROMPT\":\"Your porpouse is it to extract a pre-defined part of the text i will provide you. The text i'll provide you is an ocr read\" \\\n",
    "  \"historical newspaper. Your task is it to extract the marriage request from the text. A marriage request is defined a person, male or female, stating their interest in finding\"\n",
    "  \"a partner for the porpuse of marriage either for themself or for relatives of them in a newspaper.\" \\\n",
    "  \" It is possible that there are more than one in the text\" \\\n",
    "  \"in this case extract all of them. If you are done, reevaluate your work and check your results. Revavluate if the extracted text is really a marriage request and not some sort of other requst. Return the results in the format of a python list.\" \\\n",
    "  \"The response should be just the text you extracted. It just should contain a list of the extracted texts, with no changes made to the text If there is no marriage request return an empty string.\",\n",
    "  \n",
    "  \"model_name\":\"gemini-2.5-flash\",\n",
    "  \n",
    "  \"generation_config\" : {\n",
    "    \"temperature\": 1,\n",
    "    \"top_p\": 0.95,\n",
    "    \"top_k\": 40,\n",
    "    \"max_output_tokens\": 65536,\n",
    "    \"response_mime_type\": \"application/json\",\n",
    "    \"response_schema\": ExtractedContent,\n",
    "    }\n",
    "}\n",
    "\n"
   ]
  },
  {
   "cell_type": "markdown",
   "id": "c80c2f3c",
   "metadata": {},
   "source": [
    "# Definieren einer Klasse LLMWorker\n",
    "\n",
    "- Diese Klasse versucht, das was in `Scripts/information_extractor_lib` als `Information_Extractor` definiert wurde zu vereinfachen, da hier anstatt \"relativ umständlich\" mit Dataframe zu arbeiten direkt mit dicionarys gearbeitet wird, welches iterativ ergänzt wird und dann am ende zu einem Dataframe exploded wird.\n",
    "\n",
    "- Mittels dieser Klasse können wir durch Vererbung des gesamten Workflow in einer zweiten Klasse automatiseren. D.h. wir müssen nicht mehr drei verschiedene Objekte intialisieren (ist aber nicht zwingend notwendig - LLMWorker kann auch allein für einen einzigen Task verwendet werden). "
   ]
  },
  {
   "cell_type": "code",
   "execution_count": 4,
   "id": "b72d5f28",
   "metadata": {},
   "outputs": [],
   "source": [
    "class LLMWorker:\n",
    "    def __init__(self, configs:dict, input_id:list[str], text:list[str]):\n",
    "        self.config:dict = configs\n",
    "        self.initialized_model:bool = False\n",
    "        self.input_id:list[str] = input_id if isinstance(input_id, list) else [input_id]\n",
    "        self.text:list[str] = text if isinstance(text, list) else [text]\n",
    "        self.model = None\n",
    "        self.output = {\"results\": { } }\n",
    "        self.prompt_key = 'PROMPT'\n",
    "        \n",
    "    def set_config(self) -> None:\n",
    "        \"\"\"Setzen des API Keys, aus den im config dict gespeicherten Daten\"\"\"\n",
    "        API_KEY = self.config[\"API_KEY\"]\n",
    "        genai.configure(api_key=API_KEY)\n",
    "\n",
    "    def load_model(self) -> None:\n",
    "        \"\"\"Laden des Models und setzen der Modelkonfigurationen. Generation Config sollte im config_file gespeichert sein\"\"\"\n",
    "        self.model = genai.GenerativeModel(\n",
    "            model_name=self.config[\"model_name\"],\n",
    "            generation_config=self.config[\"generation_config\"])\n",
    "        self.initialized_model = True\n",
    "\n",
    "    def create_model_input(self,page_id:str, input_text:str) -> str:\n",
    "        \"\"\"Funktion die den prompt erstellt, der später an die Model API gesendet wird\n",
    "        Parameters:\n",
    "        page_id - id des inputs\n",
    "        input_text - Text der als Input für das Model verwendet wird\n",
    "\n",
    "        Returns:\n",
    "        string that combines the input text and input prompt\n",
    "        \n",
    "        \"\"\"\n",
    "        \n",
    "        model_input = {page_id:input_text}\n",
    "        input_combined = f\"{self.config[self.prompt_key]}\\n{model_input}\"\n",
    "        return input_combined\n",
    "    \n",
    "    \n",
    "    def extract_single_page(self, page_id:str, input_text:str) -> dict:\n",
    "        \"\"\"Funktion die die API anspricht und die einen strukturierten Output als response erhält\n",
    "        Parameters:\n",
    "        page_id - id des inputs\n",
    "        input_text - Text der als Input für das Model verwendet wird\n",
    "\n",
    "        Returns:\n",
    "        model response\n",
    "        \"\"\"\n",
    "        try:\n",
    "            input_combined = self.create_model_input(page_id=page_id, input_text=input_text)\n",
    "            \n",
    "        except Exception as e:\n",
    "            print(f\"Error while generating the model input: {e}\")\n",
    "            return {\"content\":f\"Error while generating the model input: {e}\"}\n",
    "        \n",
    "        try:\n",
    "            response = self.model.generate_content([input_combined])\n",
    "        except Exception as e:\n",
    "            print(f\"Error while receiving the response: {e} \")\n",
    "            return {\"content\":f\"Error while receiving the response: {e} \"}\n",
    "        \n",
    "        try:\n",
    "            res_parsed = json.loads(str(response.text))\n",
    "\n",
    "            return res_parsed\n",
    "        except Exception as e: \n",
    "            print(f\"Error while parsing the response - Exeption {e}\")\n",
    "            return {\"content\":f\"Error while parsing the response - Exeption {e}\"}\n",
    "        \n",
    "    def extract_content(self):\n",
    "        if self.initialized_model is False:\n",
    "            self.set_config()\n",
    "            self.load_model()\n",
    "        current_idx = 0\n",
    "        for p_, t_ in zip(self.input_id, self.text):\n",
    "            print(p_)\n",
    "            result = self.extract_single_page(p_, t_)\n",
    "            #Wenn mehr als eine Id vorhanden, dann wird pro id jeweils ein index ergänzt für den eintrag im dict, sonst überschreiebn wir den eintrag wieder\n",
    "            if str(p_) in self.output[\"results\"].keys():\n",
    "                self.output[\"results\"].update({str(p_+\"anz_\" + str(current_idx)):result[\"content\"]})\n",
    "                current_idx += 1\n",
    "            else:\n",
    "                self.output[\"results\"].update({str(p_):result[\"content\"]})\n",
    "                current_idx = 0\n",
    "            \n",
    "        return self.output\n",
    "    \n",
    "\n",
    "def output_to_df(output:dict):\n",
    "    extracted_list = []\n",
    "    ids = []\n",
    "    for k in output[\"results\"].keys():\n",
    "        extracted_list.append(output[\"results\"][k])\n",
    "        ids.append(k)\n",
    "    df = pd.DataFrame(data={\"ids\":ids, \"content\":extracted_list})\n",
    "    df = df.explode('content').reset_index(drop=True)\n",
    "    return df\n",
    " "
   ]
  },
  {
   "cell_type": "markdown",
   "id": "fb2298bb",
   "metadata": {},
   "source": [
    "### Laden der Test Daten"
   ]
  },
  {
   "cell_type": "code",
   "execution_count": 5,
   "id": "8d178a99",
   "metadata": {},
   "outputs": [],
   "source": [
    "df = pd.read_pickle(\"data/test_data.pkl\")\n",
    "\n",
    "p, t = df.page_id[0:5].tolist(), df.plainpagefulltext[0:5].tolist()"
   ]
  },
  {
   "cell_type": "markdown",
   "id": "ea99678f",
   "metadata": {},
   "source": [
    "### Exemplarische Anwendung des LLM-Worker für die Anzeigen Extraktion"
   ]
  },
  {
   "cell_type": "code",
   "execution_count": 6,
   "id": "1ec6fb3c",
   "metadata": {},
   "outputs": [
    {
     "name": "stdout",
     "output_type": "stream",
     "text": [
      "222L6GN7RLURYX36SG5DC7OGNEQUHPEQ-ALTO6294738_DDB_FULLTEXT\n",
      "2I6N3O6FQVREJAANZILPB7KV3FPJ3AJC-ALTO6282283_DDB_FULLTEXT\n",
      "2SD5IW4WF3O7OXZOSVUN3UZSYNUSDZRU-ALTO6311708_DDB_FULLTEXT\n",
      "2SVA6DKFXF6DLHZQDX4K7FL3CZ2SBJW6-ALTO6338444_DDB_FULLTEXT\n",
      "2TDMUDSOIG6M4UQSDA6QJ4D77NNJFUVG-ALTO6314075_DDB_FULLTEXT\n"
     ]
    }
   ],
   "source": [
    "extractor = LLMWorker(configs=configs, input_id= p,text= t)\n",
    "result = extractor.extract_content()"
   ]
  },
  {
   "cell_type": "markdown",
   "id": "e6f0c8e6",
   "metadata": {},
   "source": [
    "### Transformieren des Output in einen lesbareren Dataframe"
   ]
  },
  {
   "cell_type": "code",
   "execution_count": 7,
   "id": "adc52091",
   "metadata": {},
   "outputs": [
    {
     "data": {
      "application/vnd.microsoft.datawrangler.viewer.v0+json": {
       "columns": [
        {
         "name": "index",
         "rawType": "int64",
         "type": "integer"
        },
        {
         "name": "ids",
         "rawType": "object",
         "type": "string"
        },
        {
         "name": "content",
         "rawType": "object",
         "type": "string"
        }
       ],
       "ref": "0c7caebc-62b0-4ca6-a19c-4ecf65c52e91",
       "rows": [
        [
         "0",
         "222L6GN7RLURYX36SG5DC7OGNEQUHPEQ-ALTO6294738_DDB_FULLTEXT",
         "Reelles Heiratsgesuch! Ein junger Mann, 30 Jahre alt, sucht Bekanntschaft mit einer jungen Dame zwecks baldiger Heirat. Ehrensache Briefe befördert die Exp ds. Bl. in Arnsberg unter Nr. 101."
        ],
        [
         "1",
         "2I6N3O6FQVREJAANZILPB7KV3FPJ3AJC-ALTO6282283_DDB_FULLTEXT",
         "Heiratsgesuch . In gusen Vertätrissen stehender Wuw r . 48 J Fabrikarb , m . 2 . , 9 und 12 J alt socht sich mit katb . häusl gesia t Dame kinderl . Ww . niat ous geschl , im Alter von 40 \n— 50 Ihhren , zu vrbeirot u . Etwas Ver mögen erwünscht , j doch vickt unbe angt erforden ! Enstgem . Off mit Pboteg apdie unt strer ast gegens # # t . Berschwiegenh . e . bute unter 71 posl . Sundwig ."
        ],
        [
         "2",
         "2SD5IW4WF3O7OXZOSVUN3UZSYNUSDZRU-ALTO6311708_DDB_FULLTEXT",
         "Damen jeden Standes und Alters , mit und ohne Vermögen , Landwiriswitwen u . Töchter , Herren jeden Standes und Alters , Landwirte , Beante , Arbeiter , finden stets passende Bekanntschaf . wecks Heirat durch meine Wer nittlung . Diskret und reell ! Täglich , auch Sonntags , stets u # sprechen . Frau M . Heurich . Arnsberg , Dortmund Hahnboefstr 84 vi . Burawas 31"
        ],
        [
         "3",
         "2SD5IW4WF3O7OXZOSVUN3UZSYNUSDZRU-ALTO6311708_DDB_FULLTEXT",
         "Heiratsgesuch ! Junger Mann ( Handwirker ) 23 . , eo # l , wünscht mit einer egel Dome in Brieswechsel zu treten zwickl späterer Heirat . Offerten wöglichst mit Bild wolle man senden unt . Nr . 538 an die Geschästsstelle d . B1 ."
        ],
        [
         "4",
         "2SVA6DKFXF6DLHZQDX4K7FL3CZ2SBJW6-ALTO6338444_DDB_FULLTEXT",
         "Manusakturift , 27 Jahre , 1,68 groß , ansehn lich , mittelblond , Augen blau , tiefreligiös , heit . Gemüts , sucht liebes nettes Mädchen , mittel oder dunkelblond , Augen blau , mit gut kath . Religion zwecks Heirat kennen zu lernen . Besitze gutes Geschäft , schönes Heim . Ver mögen ca . 100 000 bis 110000 Mark . Dis kretion Ehrensache . Angebote mit Bild , welches ehrenwörtlich zurückgesandt , unter D . 184 W . an die Geschäftsstelle dieser Zeitung ."
        ],
        [
         "5",
         "2SVA6DKFXF6DLHZQDX4K7FL3CZ2SBJW6-ALTO6338444_DDB_FULLTEXT",
         "Akademiker 28½ Jahre all , natur = und sportfreudig , sucht Bekanntschaft mit feingebildeter , hübscher junger Dame aus guter Familie zwecks späterer Heirat Zuschriften m . Bild ( sof . zurück ) erbeten unt . D 23575 an die Geschäftsstelle dieser Zeitung ."
        ],
        [
         "6",
         "2SVA6DKFXF6DLHZQDX4K7FL3CZ2SBJW6-ALTO6338444_DDB_FULLTEXT",
         "Aleinstehender Hofbesitzer , 125 Morgen , 30 Jahre alt , sucht mit hübscher gebildeter Land wirtstochter bis zu 28 Jahren in Briefwechsel zu treten zwecks baldiger Heirat . Vermögen erwünscht , eventuell auch Einheirat in andere Landwirtschaft . Gefl . Zuschriften mit Bild wolle man senden unter Ag . 1232 an die Geschäftsstelle dieser Zeitung ."
        ],
        [
         "7",
         "2SVA6DKFXF6DLHZQDX4K7FL3CZ2SBJW6-ALTO6338444_DDB_FULLTEXT",
         "Heiratsgesuch . Lediger , kath . Beam tenanwärter , 37 Jahre , wünscht die Bekanntsch . eines gesunden Läusl . Mädchens bis zu 27 Jahren , mit guter Ver gangenheit . Vermögen langenehm . Verschwiegen heit Ehrensache ! Briese unt . Darlegung d Ver dältnisse unt . Ag . 1231 a . d . Geschst . dies . Zig ."
        ],
        [
         "8",
         "2SVA6DKFXF6DLHZQDX4K7FL3CZ2SBJW6-ALTO6338444_DDB_FULLTEXT",
         "Sollder Mann , 26 . , kath . , 2000 4l bar , spät . Vermög , wünscht nettes Mädchen zwecks Heirat kennen zu lernen . Oss . Hauptpostlagernd 412 Herne ."
        ],
        [
         "9",
         "2SVA6DKFXF6DLHZQDX4K7FL3CZ2SBJW6-ALTO6338444_DDB_FULLTEXT",
         "Heirat Für 22jähr . kathol . Gutsbesitzerstochter . ca . ½ Mislon suche ie Klademiter . Für 26jähr . kaih Dame mit 120 Mille , auch Herrn in au . Postion . Retourmarke , Tel . 325 , Nuhoss , Toge "
        ],
        [
         "10",
         "2TDMUDSOIG6M4UQSDA6QJ4D77NNJFUVG-ALTO6314075_DDB_FULLTEXT",
         "Heiratsgesuch! Junger katt , gut enzogener Mann im Alter von 30 Jahren sucht sich auf diesem Wege mit einer katb . jungen Tame im Alter don 20 — 40 Jahren zu ve heiraten und wollen sich nur wirklich guterzogene Zange Damen mit ediem Charokter melden Offenien mögichst mit Bild unter Nr 1005 zu de Gech . d . Bl . Höchste Verschwieger beit zugesichert Rch eintägigem Besiv des Bildes wird das selde sofort zm ückgefaubt ."
        ]
       ],
       "shape": {
        "columns": 2,
        "rows": 11
       }
      },
      "text/html": [
       "<div>\n",
       "<style scoped>\n",
       "    .dataframe tbody tr th:only-of-type {\n",
       "        vertical-align: middle;\n",
       "    }\n",
       "\n",
       "    .dataframe tbody tr th {\n",
       "        vertical-align: top;\n",
       "    }\n",
       "\n",
       "    .dataframe thead th {\n",
       "        text-align: right;\n",
       "    }\n",
       "</style>\n",
       "<table border=\"1\" class=\"dataframe\">\n",
       "  <thead>\n",
       "    <tr style=\"text-align: right;\">\n",
       "      <th></th>\n",
       "      <th>ids</th>\n",
       "      <th>content</th>\n",
       "    </tr>\n",
       "  </thead>\n",
       "  <tbody>\n",
       "    <tr>\n",
       "      <th>0</th>\n",
       "      <td>222L6GN7RLURYX36SG5DC7OGNEQUHPEQ-ALTO6294738_D...</td>\n",
       "      <td>Reelles Heiratsgesuch! Ein junger Mann, 30 Jah...</td>\n",
       "    </tr>\n",
       "    <tr>\n",
       "      <th>1</th>\n",
       "      <td>2I6N3O6FQVREJAANZILPB7KV3FPJ3AJC-ALTO6282283_D...</td>\n",
       "      <td>Heiratsgesuch . In gusen Vertätrissen stehende...</td>\n",
       "    </tr>\n",
       "    <tr>\n",
       "      <th>2</th>\n",
       "      <td>2SD5IW4WF3O7OXZOSVUN3UZSYNUSDZRU-ALTO6311708_D...</td>\n",
       "      <td>Damen jeden Standes und Alters , mit und ohne ...</td>\n",
       "    </tr>\n",
       "    <tr>\n",
       "      <th>3</th>\n",
       "      <td>2SD5IW4WF3O7OXZOSVUN3UZSYNUSDZRU-ALTO6311708_D...</td>\n",
       "      <td>Heiratsgesuch ! Junger Mann ( Handwirker ) 23 ...</td>\n",
       "    </tr>\n",
       "    <tr>\n",
       "      <th>4</th>\n",
       "      <td>2SVA6DKFXF6DLHZQDX4K7FL3CZ2SBJW6-ALTO6338444_D...</td>\n",
       "      <td>Manusakturift , 27 Jahre , 1,68 groß , ansehn ...</td>\n",
       "    </tr>\n",
       "    <tr>\n",
       "      <th>5</th>\n",
       "      <td>2SVA6DKFXF6DLHZQDX4K7FL3CZ2SBJW6-ALTO6338444_D...</td>\n",
       "      <td>Akademiker 28½ Jahre all , natur = und sportfr...</td>\n",
       "    </tr>\n",
       "    <tr>\n",
       "      <th>6</th>\n",
       "      <td>2SVA6DKFXF6DLHZQDX4K7FL3CZ2SBJW6-ALTO6338444_D...</td>\n",
       "      <td>Aleinstehender Hofbesitzer , 125 Morgen , 30 J...</td>\n",
       "    </tr>\n",
       "    <tr>\n",
       "      <th>7</th>\n",
       "      <td>2SVA6DKFXF6DLHZQDX4K7FL3CZ2SBJW6-ALTO6338444_D...</td>\n",
       "      <td>Heiratsgesuch . Lediger , kath . Beam tenanwär...</td>\n",
       "    </tr>\n",
       "    <tr>\n",
       "      <th>8</th>\n",
       "      <td>2SVA6DKFXF6DLHZQDX4K7FL3CZ2SBJW6-ALTO6338444_D...</td>\n",
       "      <td>Sollder Mann , 26 . , kath . , 2000 4l bar , s...</td>\n",
       "    </tr>\n",
       "    <tr>\n",
       "      <th>9</th>\n",
       "      <td>2SVA6DKFXF6DLHZQDX4K7FL3CZ2SBJW6-ALTO6338444_D...</td>\n",
       "      <td>Heirat Für 22jähr . kathol . Gutsbesitzerstoch...</td>\n",
       "    </tr>\n",
       "    <tr>\n",
       "      <th>10</th>\n",
       "      <td>2TDMUDSOIG6M4UQSDA6QJ4D77NNJFUVG-ALTO6314075_D...</td>\n",
       "      <td>Heiratsgesuch! Junger katt , gut enzogener Man...</td>\n",
       "    </tr>\n",
       "  </tbody>\n",
       "</table>\n",
       "</div>"
      ],
      "text/plain": [
       "                                                  ids  \\\n",
       "0   222L6GN7RLURYX36SG5DC7OGNEQUHPEQ-ALTO6294738_D...   \n",
       "1   2I6N3O6FQVREJAANZILPB7KV3FPJ3AJC-ALTO6282283_D...   \n",
       "2   2SD5IW4WF3O7OXZOSVUN3UZSYNUSDZRU-ALTO6311708_D...   \n",
       "3   2SD5IW4WF3O7OXZOSVUN3UZSYNUSDZRU-ALTO6311708_D...   \n",
       "4   2SVA6DKFXF6DLHZQDX4K7FL3CZ2SBJW6-ALTO6338444_D...   \n",
       "5   2SVA6DKFXF6DLHZQDX4K7FL3CZ2SBJW6-ALTO6338444_D...   \n",
       "6   2SVA6DKFXF6DLHZQDX4K7FL3CZ2SBJW6-ALTO6338444_D...   \n",
       "7   2SVA6DKFXF6DLHZQDX4K7FL3CZ2SBJW6-ALTO6338444_D...   \n",
       "8   2SVA6DKFXF6DLHZQDX4K7FL3CZ2SBJW6-ALTO6338444_D...   \n",
       "9   2SVA6DKFXF6DLHZQDX4K7FL3CZ2SBJW6-ALTO6338444_D...   \n",
       "10  2TDMUDSOIG6M4UQSDA6QJ4D77NNJFUVG-ALTO6314075_D...   \n",
       "\n",
       "                                              content  \n",
       "0   Reelles Heiratsgesuch! Ein junger Mann, 30 Jah...  \n",
       "1   Heiratsgesuch . In gusen Vertätrissen stehende...  \n",
       "2   Damen jeden Standes und Alters , mit und ohne ...  \n",
       "3   Heiratsgesuch ! Junger Mann ( Handwirker ) 23 ...  \n",
       "4   Manusakturift , 27 Jahre , 1,68 groß , ansehn ...  \n",
       "5   Akademiker 28½ Jahre all , natur = und sportfr...  \n",
       "6   Aleinstehender Hofbesitzer , 125 Morgen , 30 J...  \n",
       "7   Heiratsgesuch . Lediger , kath . Beam tenanwär...  \n",
       "8   Sollder Mann , 26 . , kath . , 2000 4l bar , s...  \n",
       "9   Heirat Für 22jähr . kathol . Gutsbesitzerstoch...  \n",
       "10  Heiratsgesuch! Junger katt , gut enzogener Man...  "
      ]
     },
     "execution_count": 7,
     "metadata": {},
     "output_type": "execute_result"
    }
   ],
   "source": [
    "extracted_content = output_to_df(result)\n",
    "extracted_content"
   ]
  },
  {
   "cell_type": "markdown",
   "id": "61a0a2cc",
   "metadata": {},
   "source": [
    "### Exemplarische Anwendung für die OCR-Error-Korrektur"
   ]
  },
  {
   "cell_type": "code",
   "execution_count": 12,
   "id": "c478eafb",
   "metadata": {},
   "outputs": [],
   "source": [
    "fw_config = {\n",
    "\n",
    "    \"API_KEY\" : os.environ.get(\"GEMINI_API_KEY\"),\n",
    "\n",
    "    \"model_name\":\"gemini-2.5-flash\",\n",
    "  \n",
    "\n",
    "    \"PROMPT\": \"You're an ocr corrector. You are an expert in correcting ocr errors in the german language.\" \\\n",
    "    \" The text you will receive can contain ocr-errors. There may be special characters that dont belong in the sentence, for example #.\" \\\n",
    "    \"Remove those characters. Please correct those and return the corrected string and the page_id in form of the scheme you received.\",\n",
    "    \n",
    "    \"generation_config\" : {\n",
    "        \"temperature\": 1,\n",
    "        \"top_p\": 0.95,\n",
    "        \"top_k\": 40,\n",
    "        \"max_output_tokens\": 65536,\n",
    "        \"response_mime_type\": \"application/json\",\n",
    "        \"response_schema\": ExtractedContent,\n",
    "    }\n",
    "}"
   ]
  },
  {
   "cell_type": "code",
   "execution_count": 13,
   "id": "4a1cede3",
   "metadata": {},
   "outputs": [
    {
     "name": "stdout",
     "output_type": "stream",
     "text": [
      "222L6GN7RLURYX36SG5DC7OGNEQUHPEQ-ALTO6294738_DDB_FULLTEXT\n",
      "2I6N3O6FQVREJAANZILPB7KV3FPJ3AJC-ALTO6282283_DDB_FULLTEXT\n",
      "2SD5IW4WF3O7OXZOSVUN3UZSYNUSDZRU-ALTO6311708_DDB_FULLTEXT\n",
      "2SD5IW4WF3O7OXZOSVUN3UZSYNUSDZRU-ALTO6311708_DDB_FULLTEXT\n",
      "2SVA6DKFXF6DLHZQDX4K7FL3CZ2SBJW6-ALTO6338444_DDB_FULLTEXT\n",
      "2SVA6DKFXF6DLHZQDX4K7FL3CZ2SBJW6-ALTO6338444_DDB_FULLTEXT\n",
      "2SVA6DKFXF6DLHZQDX4K7FL3CZ2SBJW6-ALTO6338444_DDB_FULLTEXT\n",
      "2SVA6DKFXF6DLHZQDX4K7FL3CZ2SBJW6-ALTO6338444_DDB_FULLTEXT\n",
      "2SVA6DKFXF6DLHZQDX4K7FL3CZ2SBJW6-ALTO6338444_DDB_FULLTEXT\n",
      "2SVA6DKFXF6DLHZQDX4K7FL3CZ2SBJW6-ALTO6338444_DDB_FULLTEXT\n",
      "2TDMUDSOIG6M4UQSDA6QJ4D77NNJFUVG-ALTO6314075_DDB_FULLTEXT\n"
     ]
    }
   ],
   "source": [
    "extractor = LLMWorker(configs=fw_config, input_id= extracted_content.ids.tolist(),text= extracted_content.content.tolist())\n",
    "result_corrected = extractor.extract_content()"
   ]
  },
  {
   "cell_type": "code",
   "execution_count": 14,
   "id": "b3d814c8",
   "metadata": {},
   "outputs": [
    {
     "data": {
      "application/vnd.microsoft.datawrangler.viewer.v0+json": {
       "columns": [
        {
         "name": "index",
         "rawType": "int64",
         "type": "integer"
        },
        {
         "name": "ids",
         "rawType": "object",
         "type": "string"
        },
        {
         "name": "content",
         "rawType": "object",
         "type": "string"
        }
       ],
       "ref": "11ee6421-5c45-4a81-91b1-8361fae746e2",
       "rows": [
        [
         "0",
         "222L6GN7RLURYX36SG5DC7OGNEQUHPEQ-ALTO6294738_DDB_FULLTEXT",
         "Reelles Heiratsgesuch! Ein junger Mann, 30 Jahre alt, sucht Bekanntschaft mit einer jungen Dame zwecks baldiger Heirat. Ehrensache Briefe befördert die Exp ds. Bl. in Arnsberg unter Nr. 101."
        ],
        [
         "1",
         "2I6N3O6FQVREJAANZILPB7KV3FPJ3AJC-ALTO6282283_DDB_FULLTEXT",
         "Heiratsgesuch. In guten Verhältnissen stehender Witwer, 48 J., Fabrikarbeiter, mit 2, 9 und 12 J. alten Kindern sucht sich mit kath., häuslicher, gesitteter Dame (kinderlose Witwe nicht ausgeschlossen) im Alter von 40-50 Jahren zu verheiraten. Etwas Vermögen erwünscht, jedoch nicht unbedingt erforderlich! Ernstgemeinte Offerten mit Photographie unter strengster Diskretion erbeten unter 71 postlagernd Sundwig."
        ],
        [
         "2",
         "2SD5IW4WF3O7OXZOSVUN3UZSYNUSDZRU-ALTO6311708_DDB_FULLTEXT",
         "Damen jeden Standes und Alters, mit und ohne Vermögen, Landwirtswitwen u. Töchter, Herren jeden Standes und Alters, Landwirte, Beamte, Arbeiter, finden stets passende Bekanntschaft. Zwecks Heirat durch meine Vermittlung. Diskret und reell! Täglich, auch Sonntags, stets zu sprechen. Frau M. Heurich. Arnsberg, Dortmund Hahnhofstr 84 VI. Burabas 31"
        ],
        [
         "3",
         "2SD5IW4WF3O7OXZOSVUN3UZSYNUSDZRU-ALTO6311708_DDB_FULLTEXTanz_0",
         "Heiratsgesuch! Junger Mann (Handwerker) 23 J., evtl., wünscht mit einer ledigen Dame in Briefwechsel zu treten zwecks späterer Heirat. Offerten möglichst mit Bild wolle man senden unt. Nr. 538 an die Geschäftsstelle d. Bl."
        ],
        [
         "4",
         "2SVA6DKFXF6DLHZQDX4K7FL3CZ2SBJW6-ALTO6338444_DDB_FULLTEXT",
         "Manufakturist, 27 Jahre, 1,68 groß, ansehnlich, mittelblond, Augen blau, tiefreligiös, heiteren Gemütes, sucht liebes nettes Mädchen, mittel oder dunkelblond, Augen blau, mit gut kath. Religion zwecks Heirat kennen zu lernen. Besitze gutes Geschäft, schönes Heim. Vermögen ca. 100 000 bis 110000 Mark. Diskretion Ehrensache. Angebote mit Bild, welches ehrenwörtlich zurückgesandt, unter D. 184 W. an die Geschäftsstelle dieser Zeitung."
        ],
        [
         "5",
         "2SVA6DKFXF6DLHZQDX4K7FL3CZ2SBJW6-ALTO6338444_DDB_FULLTEXTanz_0",
         "Akademiker 28½ Jahre alt, natur- und sportfreudig, sucht Bekanntschaft mit feingebildeter, hübscher junger Dame aus guter Familie zwecks späterer Heirat. Zuschriften m. Bild (sof. zurück) erbeten unt. D 23575 an die Geschäftsstelle dieser Zeitung."
        ],
        [
         "6",
         "2SVA6DKFXF6DLHZQDX4K7FL3CZ2SBJW6-ALTO6338444_DDB_FULLTEXTanz_1",
         "Alleinstehender Hofbesitzer, 125 Morgen, 30 Jahre alt, sucht mit hübscher gebildeter Landwirtstochter bis zu 28 Jahren in Briefwechsel zu treten zwecks baldiger Heirat. Vermögen erwünscht, eventuell auch Einheirat in andere Landwirtschaft. Gefl. Zuschriften mit Bild wolle man senden unter Ag. 1232 an die Geschäftsstelle dieser Zeitung."
        ],
        [
         "7",
         "2SVA6DKFXF6DLHZQDX4K7FL3CZ2SBJW6-ALTO6338444_DDB_FULLTEXTanz_2",
         "Heiratsgesuch . Lediger , kath . Beamtenanwärter , 37 Jahre , wünscht die Bekanntsch . eines gesunden Landmädchens bis zu 27 Jahren , mit guter Vergangenheit . Vermögen angenehm . Verschwiegenheit Ehrensache ! Briefe unt . Darlegung der Verhältnisse unt . Ag . 1231 a . d . Geschst . dies . Zig ."
        ],
        [
         "8",
         "2SVA6DKFXF6DLHZQDX4K7FL3CZ2SBJW6-ALTO6338444_DDB_FULLTEXTanz_3",
         "Soll der Mann, 26, kath., 2000 M bar, spät. Vermögen, wünscht nettes Mädchen zwecks Heirat kennen zu lernen. Oss. Hauptpostlagernd 412 Herne."
        ],
        [
         "9",
         "2SVA6DKFXF6DLHZQDX4K7FL3CZ2SBJW6-ALTO6338444_DDB_FULLTEXTanz_4",
         "Heirat Für 22jähr . kathol . Gutsbesitzerstochter . ca . ½ Million suche ich Kandidaten . Für 26jähr . kath . Dame mit 120.000 , auch Herrn in guter Position . Retourmarke , Tel . 325 , Nuhof , Lage ."
        ],
        [
         "10",
         "2TDMUDSOIG6M4UQSDA6QJ4D77NNJFUVG-ALTO6314075_DDB_FULLTEXT",
         "Heiratsgesuch! Junger, kath., gut erzogener Mann im Alter von 30 Jahren sucht sich auf diesem Wege mit einer kath. jungen Dame im Alter von 20 \n40 Jahren zu verheiraten und wollen sich nur wirklich guterzogene junge Damen mit edlem Charakter melden. Offerten möglichst mit Bild unter Nr. 1005 zu der Geschäftsstelle d. Bl. Höchste Verschwiegenheit zugesichert. Nach eintägigem Besitz des Bildes wird dasselbe sofort zurückgesandt."
        ]
       ],
       "shape": {
        "columns": 2,
        "rows": 11
       }
      },
      "text/html": [
       "<div>\n",
       "<style scoped>\n",
       "    .dataframe tbody tr th:only-of-type {\n",
       "        vertical-align: middle;\n",
       "    }\n",
       "\n",
       "    .dataframe tbody tr th {\n",
       "        vertical-align: top;\n",
       "    }\n",
       "\n",
       "    .dataframe thead th {\n",
       "        text-align: right;\n",
       "    }\n",
       "</style>\n",
       "<table border=\"1\" class=\"dataframe\">\n",
       "  <thead>\n",
       "    <tr style=\"text-align: right;\">\n",
       "      <th></th>\n",
       "      <th>ids</th>\n",
       "      <th>content</th>\n",
       "    </tr>\n",
       "  </thead>\n",
       "  <tbody>\n",
       "    <tr>\n",
       "      <th>0</th>\n",
       "      <td>222L6GN7RLURYX36SG5DC7OGNEQUHPEQ-ALTO6294738_D...</td>\n",
       "      <td>Reelles Heiratsgesuch! Ein junger Mann, 30 Jah...</td>\n",
       "    </tr>\n",
       "    <tr>\n",
       "      <th>1</th>\n",
       "      <td>2I6N3O6FQVREJAANZILPB7KV3FPJ3AJC-ALTO6282283_D...</td>\n",
       "      <td>Heiratsgesuch. In guten Verhältnissen stehende...</td>\n",
       "    </tr>\n",
       "    <tr>\n",
       "      <th>2</th>\n",
       "      <td>2SD5IW4WF3O7OXZOSVUN3UZSYNUSDZRU-ALTO6311708_D...</td>\n",
       "      <td>Damen jeden Standes und Alters, mit und ohne V...</td>\n",
       "    </tr>\n",
       "    <tr>\n",
       "      <th>3</th>\n",
       "      <td>2SD5IW4WF3O7OXZOSVUN3UZSYNUSDZRU-ALTO6311708_D...</td>\n",
       "      <td>Heiratsgesuch! Junger Mann (Handwerker) 23 J.,...</td>\n",
       "    </tr>\n",
       "    <tr>\n",
       "      <th>4</th>\n",
       "      <td>2SVA6DKFXF6DLHZQDX4K7FL3CZ2SBJW6-ALTO6338444_D...</td>\n",
       "      <td>Manufakturist, 27 Jahre, 1,68 groß, ansehnlich...</td>\n",
       "    </tr>\n",
       "    <tr>\n",
       "      <th>5</th>\n",
       "      <td>2SVA6DKFXF6DLHZQDX4K7FL3CZ2SBJW6-ALTO6338444_D...</td>\n",
       "      <td>Akademiker 28½ Jahre alt, natur- und sportfreu...</td>\n",
       "    </tr>\n",
       "    <tr>\n",
       "      <th>6</th>\n",
       "      <td>2SVA6DKFXF6DLHZQDX4K7FL3CZ2SBJW6-ALTO6338444_D...</td>\n",
       "      <td>Alleinstehender Hofbesitzer, 125 Morgen, 30 Ja...</td>\n",
       "    </tr>\n",
       "    <tr>\n",
       "      <th>7</th>\n",
       "      <td>2SVA6DKFXF6DLHZQDX4K7FL3CZ2SBJW6-ALTO6338444_D...</td>\n",
       "      <td>Heiratsgesuch . Lediger , kath . Beamtenanwärt...</td>\n",
       "    </tr>\n",
       "    <tr>\n",
       "      <th>8</th>\n",
       "      <td>2SVA6DKFXF6DLHZQDX4K7FL3CZ2SBJW6-ALTO6338444_D...</td>\n",
       "      <td>Soll der Mann, 26, kath., 2000 M bar, spät. Ve...</td>\n",
       "    </tr>\n",
       "    <tr>\n",
       "      <th>9</th>\n",
       "      <td>2SVA6DKFXF6DLHZQDX4K7FL3CZ2SBJW6-ALTO6338444_D...</td>\n",
       "      <td>Heirat Für 22jähr . kathol . Gutsbesitzerstoch...</td>\n",
       "    </tr>\n",
       "    <tr>\n",
       "      <th>10</th>\n",
       "      <td>2TDMUDSOIG6M4UQSDA6QJ4D77NNJFUVG-ALTO6314075_D...</td>\n",
       "      <td>Heiratsgesuch! Junger, kath., gut erzogener Ma...</td>\n",
       "    </tr>\n",
       "  </tbody>\n",
       "</table>\n",
       "</div>"
      ],
      "text/plain": [
       "                                                  ids  \\\n",
       "0   222L6GN7RLURYX36SG5DC7OGNEQUHPEQ-ALTO6294738_D...   \n",
       "1   2I6N3O6FQVREJAANZILPB7KV3FPJ3AJC-ALTO6282283_D...   \n",
       "2   2SD5IW4WF3O7OXZOSVUN3UZSYNUSDZRU-ALTO6311708_D...   \n",
       "3   2SD5IW4WF3O7OXZOSVUN3UZSYNUSDZRU-ALTO6311708_D...   \n",
       "4   2SVA6DKFXF6DLHZQDX4K7FL3CZ2SBJW6-ALTO6338444_D...   \n",
       "5   2SVA6DKFXF6DLHZQDX4K7FL3CZ2SBJW6-ALTO6338444_D...   \n",
       "6   2SVA6DKFXF6DLHZQDX4K7FL3CZ2SBJW6-ALTO6338444_D...   \n",
       "7   2SVA6DKFXF6DLHZQDX4K7FL3CZ2SBJW6-ALTO6338444_D...   \n",
       "8   2SVA6DKFXF6DLHZQDX4K7FL3CZ2SBJW6-ALTO6338444_D...   \n",
       "9   2SVA6DKFXF6DLHZQDX4K7FL3CZ2SBJW6-ALTO6338444_D...   \n",
       "10  2TDMUDSOIG6M4UQSDA6QJ4D77NNJFUVG-ALTO6314075_D...   \n",
       "\n",
       "                                              content  \n",
       "0   Reelles Heiratsgesuch! Ein junger Mann, 30 Jah...  \n",
       "1   Heiratsgesuch. In guten Verhältnissen stehende...  \n",
       "2   Damen jeden Standes und Alters, mit und ohne V...  \n",
       "3   Heiratsgesuch! Junger Mann (Handwerker) 23 J.,...  \n",
       "4   Manufakturist, 27 Jahre, 1,68 groß, ansehnlich...  \n",
       "5   Akademiker 28½ Jahre alt, natur- und sportfreu...  \n",
       "6   Alleinstehender Hofbesitzer, 125 Morgen, 30 Ja...  \n",
       "7   Heiratsgesuch . Lediger , kath . Beamtenanwärt...  \n",
       "8   Soll der Mann, 26, kath., 2000 M bar, spät. Ve...  \n",
       "9   Heirat Für 22jähr . kathol . Gutsbesitzerstoch...  \n",
       "10  Heiratsgesuch! Junger, kath., gut erzogener Ma...  "
      ]
     },
     "execution_count": 14,
     "metadata": {},
     "output_type": "execute_result"
    }
   ],
   "source": [
    "result_corrected_df = output_to_df(result_corrected)\n",
    "result_corrected_df"
   ]
  },
  {
   "cell_type": "markdown",
   "id": "4eb93387",
   "metadata": {},
   "source": [
    "### Exemplarische Anwendung für die Textvervollständigung"
   ]
  },
  {
   "cell_type": "code",
   "execution_count": 15,
   "id": "b7265d74",
   "metadata": {},
   "outputs": [],
   "source": [
    "fw_config2 = {\n",
    "    \"API_KEY\" : os.environ.get(\"GEMINI_API_KEY\"),\n",
    " \n",
    "\n",
    "    \"PROMPT\":\"You're an text corrector. You are an expert in correcting texts. You will receive a text in the german language that contain abreviated words, \"\n",
    "    \"write those abriviated words out and return the corrected sentence in the schemes you had been given. If there are no abriviated words return the sentence as it is.\",\n",
    "    \n",
    "    \"model_name\":\"gemini-2.5-flash\",\n",
    "    \n",
    "    \"generation_config\" : {\n",
    "        \"temperature\": 1,\n",
    "        \"top_p\": 0.95,\n",
    "        \"top_k\": 40,\n",
    "        \"max_output_tokens\": 65536,\n",
    "        \"response_mime_type\": \"application/json\",\n",
    "        \"response_schema\": ExtractedContent,\n",
    "    }\n",
    "}"
   ]
  },
  {
   "cell_type": "code",
   "execution_count": 16,
   "id": "a75b8159",
   "metadata": {},
   "outputs": [
    {
     "name": "stdout",
     "output_type": "stream",
     "text": [
      "222L6GN7RLURYX36SG5DC7OGNEQUHPEQ-ALTO6294738_DDB_FULLTEXT\n",
      "2I6N3O6FQVREJAANZILPB7KV3FPJ3AJC-ALTO6282283_DDB_FULLTEXT\n",
      "2SD5IW4WF3O7OXZOSVUN3UZSYNUSDZRU-ALTO6311708_DDB_FULLTEXT\n",
      "2SD5IW4WF3O7OXZOSVUN3UZSYNUSDZRU-ALTO6311708_DDB_FULLTEXTanz_0\n",
      "2SVA6DKFXF6DLHZQDX4K7FL3CZ2SBJW6-ALTO6338444_DDB_FULLTEXT\n",
      "2SVA6DKFXF6DLHZQDX4K7FL3CZ2SBJW6-ALTO6338444_DDB_FULLTEXTanz_0\n",
      "2SVA6DKFXF6DLHZQDX4K7FL3CZ2SBJW6-ALTO6338444_DDB_FULLTEXTanz_1\n",
      "2SVA6DKFXF6DLHZQDX4K7FL3CZ2SBJW6-ALTO6338444_DDB_FULLTEXTanz_2\n",
      "2SVA6DKFXF6DLHZQDX4K7FL3CZ2SBJW6-ALTO6338444_DDB_FULLTEXTanz_3\n",
      "2SVA6DKFXF6DLHZQDX4K7FL3CZ2SBJW6-ALTO6338444_DDB_FULLTEXTanz_4\n",
      "2TDMUDSOIG6M4UQSDA6QJ4D77NNJFUVG-ALTO6314075_DDB_FULLTEXT\n"
     ]
    }
   ],
   "source": [
    "extractor = LLMWorker(configs=configs, input_id= result_corrected_df.ids.tolist(),text= result_corrected_df.content.tolist())\n",
    "extractor.config = fw_config2\n",
    "result_completed = extractor.extract_content()"
   ]
  },
  {
   "cell_type": "code",
   "execution_count": 17,
   "id": "5dc68823",
   "metadata": {},
   "outputs": [
    {
     "data": {
      "application/vnd.microsoft.datawrangler.viewer.v0+json": {
       "columns": [
        {
         "name": "index",
         "rawType": "int64",
         "type": "integer"
        },
        {
         "name": "ids",
         "rawType": "object",
         "type": "string"
        },
        {
         "name": "content",
         "rawType": "object",
         "type": "string"
        }
       ],
       "ref": "0e08f67c-7cbc-4953-8c7b-72b898ce555a",
       "rows": [
        [
         "0",
         "222L6GN7RLURYX36SG5DC7OGNEQUHPEQ-ALTO6294738_DDB_FULLTEXT",
         "Reelles Heiratsgesuch! Ein junger Mann, 30 Jahre alt, sucht Bekanntschaft mit einer jungen Dame zwecks baldiger Heirat. Ehrensache Briefe befördert die Expedition dieses Blattes in Arnsberg unter Nummer 101."
        ],
        [
         "1",
         "2I6N3O6FQVREJAANZILPB7KV3FPJ3AJC-ALTO6282283_DDB_FULLTEXT",
         "Heiratsgesuch. In guten Verhältnissen stehender Witwer, 48 Jahre, Fabrikarbeiter, mit 2, 9 und 12 Jahre alten Kindern sucht sich mit katholischer, häuslicher, gesitteter Dame (kinderlose Witwe nicht ausgeschlossen) im Alter von 40-50 Jahren zu verheiraten. Etwas Vermögen erwünscht, jedoch nicht unbedingt erforderlich! Ernstgemeinte Offerten mit Photographie unter strengster Diskretion erbeten unter 71 postlagernd Sundwig."
        ],
        [
         "2",
         "2SD5IW4WF3O7OXZOSVUN3UZSYNUSDZRU-ALTO6311708_DDB_FULLTEXT",
         "Damen jeden Standes und Alters, mit und ohne Vermögen, Landwirtswitwen und Töchter, Herren jeden Standes und Alters, Landwirte, Beamte, Arbeiter, finden stets passende Bekanntschaft. Zwecks Heirat durch meine Vermittlung. Diskret und reell! Täglich, auch Sonntags, stets zu sprechen. Frau M. Heurich. Arnsberg, Dortmund Hahnhofstraße 84 VI. Burabas 31"
        ],
        [
         "3",
         "2SD5IW4WF3O7OXZOSVUN3UZSYNUSDZRU-ALTO6311708_DDB_FULLTEXTanz_0",
         "Heiratsgesuch! Junger Mann (Handwerker) 23 Jahre, eventuell, wünscht mit einer ledigen Dame in Briefwechsel zu treten zwecks späterer Heirat. Offerten möglichst mit Bild wolle man senden unter Nummer 538 an die Geschäftsstelle des Blattes."
        ],
        [
         "4",
         "2SVA6DKFXF6DLHZQDX4K7FL3CZ2SBJW6-ALTO6338444_DDB_FULLTEXT",
         "Manufakturist, 27 Jahre, 1,68 groß, ansehnlich, mittelblond, Augen blau, tiefreligiös, heiteren Gemütes, sucht liebes nettes Mädchen, mittel oder dunkelblond, Augen blau, mit guter katholischer Religion zwecks Heirat kennen zu lernen. Besitze gutes Geschäft, schönes Heim. Vermögen circa 100 000 bis 110000 Mark. Diskretion Ehrensache. Angebote mit Bild, welches ehrenwörtlich zurückgesandt, unter D. 184 W. an die Geschäftsstelle dieser Zeitung."
        ],
        [
         "5",
         "2SVA6DKFXF6DLHZQDX4K7FL3CZ2SBJW6-ALTO6338444_DDB_FULLTEXTanz_0",
         "Akademiker 28½ Jahre alt, natur- und sportfreudig, sucht Bekanntschaft mit feingebildeter, hübscher junger Dame aus guter Familie zwecks späterer Heirat. Zuschriften mit Bild (sofort zurück) erbeten unter D 23575 an die Geschäftsstelle dieser Zeitung."
        ],
        [
         "6",
         "2SVA6DKFXF6DLHZQDX4K7FL3CZ2SBJW6-ALTO6338444_DDB_FULLTEXTanz_1",
         "Alleinstehender Hofbesitzer, 125 Morgen, 30 Jahre alt, sucht mit hübscher gebildeter Landwirtstochter bis zu 28 Jahren in Briefwechsel zu treten zwecks baldiger Heirat. Vermögen erwünscht, eventuell auch Einheirat in andere Landwirtschaft. Gefälligst Zuschriften mit Bild wolle man senden unter Anzeige 1232 an die Geschäftsstelle dieser Zeitung."
        ],
        [
         "7",
         "2SVA6DKFXF6DLHZQDX4K7FL3CZ2SBJW6-ALTO6338444_DDB_FULLTEXTanz_2",
         "Heiratsgesuch. Lediger, katholischer Beamtenanwärter, 37 Jahre, wünscht die Bekanntschaft eines gesunden Landmädchens bis zu 27 Jahren, mit guter Vergangenheit. Vermögen angenehm. Verschwiegenheit Ehrensache! Briefe unter Darlegung der Verhältnisse unter Anfragen 1231 an die Geschäftsstelle dieser Zeitung."
        ],
        [
         "8",
         "2SVA6DKFXF6DLHZQDX4K7FL3CZ2SBJW6-ALTO6338444_DDB_FULLTEXTanz_3",
         "Soll der Mann, 26, katholisch, 2000 Mark bar, späteres Vermögen, wünscht nettes Mädchen zwecks Heirat kennen zu lernen. Ostdeutscher. Hauptpostlagernd 412 Herne."
        ],
        [
         "9",
         "2SVA6DKFXF6DLHZQDX4K7FL3CZ2SBJW6-ALTO6338444_DDB_FULLTEXTanz_4",
         "Heirat Für 22-jährige katholische Gutsbesitzerstochter, circa ½ Million, suche ich Kandidaten. Für 26-jährige katholische Dame mit 120.000, auch Herrn in guter Position. Retourmarke, Telefon 325, Nuhof, Lage."
        ],
        [
         "10",
         "2TDMUDSOIG6M4UQSDA6QJ4D77NNJFUVG-ALTO6314075_DDB_FULLTEXT",
         "Heiratsgesuch! Junger, katholischer, gut erzogener Mann im Alter von 30 Jahren sucht sich auf diesem Wege mit einer katholischen jungen Dame im Alter von 20 40 Jahren zu verheiraten und wollen sich nur wirklich guterzogene junge Damen mit edlem Charakter melden. Offerten möglichst mit Bild unter Nummer 1005 zu der Geschäftsstelle des Blattes. Höchste Verschwiegenheit zugesichert. Nach eintägigem Besitz des Bildes wird dasselbe sofort zurückgesandt."
        ]
       ],
       "shape": {
        "columns": 2,
        "rows": 11
       }
      },
      "text/html": [
       "<div>\n",
       "<style scoped>\n",
       "    .dataframe tbody tr th:only-of-type {\n",
       "        vertical-align: middle;\n",
       "    }\n",
       "\n",
       "    .dataframe tbody tr th {\n",
       "        vertical-align: top;\n",
       "    }\n",
       "\n",
       "    .dataframe thead th {\n",
       "        text-align: right;\n",
       "    }\n",
       "</style>\n",
       "<table border=\"1\" class=\"dataframe\">\n",
       "  <thead>\n",
       "    <tr style=\"text-align: right;\">\n",
       "      <th></th>\n",
       "      <th>ids</th>\n",
       "      <th>content</th>\n",
       "    </tr>\n",
       "  </thead>\n",
       "  <tbody>\n",
       "    <tr>\n",
       "      <th>0</th>\n",
       "      <td>222L6GN7RLURYX36SG5DC7OGNEQUHPEQ-ALTO6294738_D...</td>\n",
       "      <td>Reelles Heiratsgesuch! Ein junger Mann, 30 Jah...</td>\n",
       "    </tr>\n",
       "    <tr>\n",
       "      <th>1</th>\n",
       "      <td>2I6N3O6FQVREJAANZILPB7KV3FPJ3AJC-ALTO6282283_D...</td>\n",
       "      <td>Heiratsgesuch. In guten Verhältnissen stehende...</td>\n",
       "    </tr>\n",
       "    <tr>\n",
       "      <th>2</th>\n",
       "      <td>2SD5IW4WF3O7OXZOSVUN3UZSYNUSDZRU-ALTO6311708_D...</td>\n",
       "      <td>Damen jeden Standes und Alters, mit und ohne V...</td>\n",
       "    </tr>\n",
       "    <tr>\n",
       "      <th>3</th>\n",
       "      <td>2SD5IW4WF3O7OXZOSVUN3UZSYNUSDZRU-ALTO6311708_D...</td>\n",
       "      <td>Heiratsgesuch! Junger Mann (Handwerker) 23 Jah...</td>\n",
       "    </tr>\n",
       "    <tr>\n",
       "      <th>4</th>\n",
       "      <td>2SVA6DKFXF6DLHZQDX4K7FL3CZ2SBJW6-ALTO6338444_D...</td>\n",
       "      <td>Manufakturist, 27 Jahre, 1,68 groß, ansehnlich...</td>\n",
       "    </tr>\n",
       "    <tr>\n",
       "      <th>5</th>\n",
       "      <td>2SVA6DKFXF6DLHZQDX4K7FL3CZ2SBJW6-ALTO6338444_D...</td>\n",
       "      <td>Akademiker 28½ Jahre alt, natur- und sportfreu...</td>\n",
       "    </tr>\n",
       "    <tr>\n",
       "      <th>6</th>\n",
       "      <td>2SVA6DKFXF6DLHZQDX4K7FL3CZ2SBJW6-ALTO6338444_D...</td>\n",
       "      <td>Alleinstehender Hofbesitzer, 125 Morgen, 30 Ja...</td>\n",
       "    </tr>\n",
       "    <tr>\n",
       "      <th>7</th>\n",
       "      <td>2SVA6DKFXF6DLHZQDX4K7FL3CZ2SBJW6-ALTO6338444_D...</td>\n",
       "      <td>Heiratsgesuch. Lediger, katholischer Beamtenan...</td>\n",
       "    </tr>\n",
       "    <tr>\n",
       "      <th>8</th>\n",
       "      <td>2SVA6DKFXF6DLHZQDX4K7FL3CZ2SBJW6-ALTO6338444_D...</td>\n",
       "      <td>Soll der Mann, 26, katholisch, 2000 Mark bar, ...</td>\n",
       "    </tr>\n",
       "    <tr>\n",
       "      <th>9</th>\n",
       "      <td>2SVA6DKFXF6DLHZQDX4K7FL3CZ2SBJW6-ALTO6338444_D...</td>\n",
       "      <td>Heirat Für 22-jährige katholische Gutsbesitzer...</td>\n",
       "    </tr>\n",
       "    <tr>\n",
       "      <th>10</th>\n",
       "      <td>2TDMUDSOIG6M4UQSDA6QJ4D77NNJFUVG-ALTO6314075_D...</td>\n",
       "      <td>Heiratsgesuch! Junger, katholischer, gut erzog...</td>\n",
       "    </tr>\n",
       "  </tbody>\n",
       "</table>\n",
       "</div>"
      ],
      "text/plain": [
       "                                                  ids  \\\n",
       "0   222L6GN7RLURYX36SG5DC7OGNEQUHPEQ-ALTO6294738_D...   \n",
       "1   2I6N3O6FQVREJAANZILPB7KV3FPJ3AJC-ALTO6282283_D...   \n",
       "2   2SD5IW4WF3O7OXZOSVUN3UZSYNUSDZRU-ALTO6311708_D...   \n",
       "3   2SD5IW4WF3O7OXZOSVUN3UZSYNUSDZRU-ALTO6311708_D...   \n",
       "4   2SVA6DKFXF6DLHZQDX4K7FL3CZ2SBJW6-ALTO6338444_D...   \n",
       "5   2SVA6DKFXF6DLHZQDX4K7FL3CZ2SBJW6-ALTO6338444_D...   \n",
       "6   2SVA6DKFXF6DLHZQDX4K7FL3CZ2SBJW6-ALTO6338444_D...   \n",
       "7   2SVA6DKFXF6DLHZQDX4K7FL3CZ2SBJW6-ALTO6338444_D...   \n",
       "8   2SVA6DKFXF6DLHZQDX4K7FL3CZ2SBJW6-ALTO6338444_D...   \n",
       "9   2SVA6DKFXF6DLHZQDX4K7FL3CZ2SBJW6-ALTO6338444_D...   \n",
       "10  2TDMUDSOIG6M4UQSDA6QJ4D77NNJFUVG-ALTO6314075_D...   \n",
       "\n",
       "                                              content  \n",
       "0   Reelles Heiratsgesuch! Ein junger Mann, 30 Jah...  \n",
       "1   Heiratsgesuch. In guten Verhältnissen stehende...  \n",
       "2   Damen jeden Standes und Alters, mit und ohne V...  \n",
       "3   Heiratsgesuch! Junger Mann (Handwerker) 23 Jah...  \n",
       "4   Manufakturist, 27 Jahre, 1,68 groß, ansehnlich...  \n",
       "5   Akademiker 28½ Jahre alt, natur- und sportfreu...  \n",
       "6   Alleinstehender Hofbesitzer, 125 Morgen, 30 Ja...  \n",
       "7   Heiratsgesuch. Lediger, katholischer Beamtenan...  \n",
       "8   Soll der Mann, 26, katholisch, 2000 Mark bar, ...  \n",
       "9   Heirat Für 22-jährige katholische Gutsbesitzer...  \n",
       "10  Heiratsgesuch! Junger, katholischer, gut erzog...  "
      ]
     },
     "execution_count": 17,
     "metadata": {},
     "output_type": "execute_result"
    }
   ],
   "source": [
    "output_to_df(result_completed)"
   ]
  },
  {
   "cell_type": "markdown",
   "id": "6bd57792",
   "metadata": {},
   "source": [
    "### Versuch alle Arbeitsschritte in einer Klasse zu automatisiert\n",
    "\n",
    "- Risiko: Hier können sich Fehler einschleichen, die sich bis zum Ende durchziehen, d.h. es ist noch kein Droput implementiert, wenn wir einen Error bekommen. \n",
    "\n",
    "- Das Ganze ist so implementiert, dass wir eine folgendes als Input geben:\n",
    "    - `configs:dict` - beeinhaltet, alle prompts die ausgeführt werden sollen, Modell Name und Modell Spezifikationen\n",
    "    - `input_id:list[str]` - liste der Input Ids\n",
    "    - `text:list[str]` - Liste der Texte die verarbeitet werden sollen \n",
    "    - `prompt_list_ordered:list[str]` - geordnete Liste der Prompts die ausgeführt werden sollen.\n"
   ]
  },
  {
   "cell_type": "code",
   "execution_count": null,
   "id": "e1165f59",
   "metadata": {},
   "outputs": [],
   "source": [
    "df = pd.read_pickle(\"data/test_data.pkl\")\n",
    "\n",
    "p, t = df.page_id[0:5].tolist(), df.plainpagefulltext[0:5].tolist()"
   ]
  },
  {
   "cell_type": "code",
   "execution_count": null,
   "id": "84ba2f5b",
   "metadata": {},
   "outputs": [],
   "source": [
    "class FullWorkflow(LLMWorker):\n",
    "    def __init__(self, configs, input_id, text, prompt_list_ordered:list):\n",
    "        super().__init__(configs, input_id, text)\n",
    "        self.prompt_list = prompt_list_ordered\n",
    "    \n",
    "\n",
    "    def reset_output(self):\n",
    "        self.output = {\"results\": { } }\n",
    "        \n",
    "\n",
    "    def output_to_df(self, output:dict):\n",
    "        extracted_list = []\n",
    "        ids = []\n",
    "        for k in output[\"results\"].keys():\n",
    "            extracted_list.append(output[\"results\"][k])\n",
    "            ids.append(k)\n",
    "        df = pd.DataFrame(data={\"ids\":ids, \"content\":extracted_list})\n",
    "        df = df.explode('content').reset_index(drop=True)\n",
    "        return df\n",
    "\n",
    "\n",
    "\n",
    "    def run_workflow(self):\n",
    "        for prompt in self.prompt_list:\n",
    "            \n",
    "            self.prompt_key = prompt\n",
    "            \n",
    "            result = self.extract_content()\n",
    "            result = self.output_to_df(result)\n",
    "            \n",
    "            self.input_id = result.ids.tolist()\n",
    "            self.text = result.content.tolist()\n",
    "\n",
    "            self.reset_output()\n",
    "\n",
    "\n",
    "        return result\n",
    "        "
   ]
  },
  {
   "cell_type": "code",
   "execution_count": null,
   "id": "cdfa9a65",
   "metadata": {},
   "outputs": [],
   "source": [
    "test_config = {\n",
    "    \"API_KEY\" : os.environ.get(\"GEMINI_API_KEY\"),\n",
    "\n",
    "    \"PROMPT\":\"Your porpouse is it to extract a pre-defined part of the text i will provide you. The text i'll provide you is an ocr read\" \\\n",
    "    \"historical newspaper. Your task is it to extract the marriage request from the text. A marriage request is defined a person, male or female, stating their interest in finding\"\n",
    "    \"a partner for the porpuse of marriage either for themself or for relatives of them in a newspaper.\" \\\n",
    "    \" It is possible that there are more than one in the text\" \\\n",
    "    \"in this case extract all of them. If you are done, reevaluate your work and check your results. Revavluate if the extracted text is really a marriage request and not some sort of other requst. Return the results in the format of a python list.\" \\\n",
    "    \"The response should be just the text you extracted. It just should contain a list of the extracted texts, with no changes made to the text If there is no marriage request return an empty string.\",\n",
    "    \n",
    "    \n",
    "    \"CORRECTION_PROMPT\": \"You're an ocr corrector. You are an expert in correcting ocr errors in the german language.\" \\\n",
    "    \" The text you will receive can contain ocr-errors. There may be special characters that dont belong in the sentence, for example #.\" \\\n",
    "    \"Remove those characters. Please correct those and return the corrected string and the page_id in form of the scheme you received.\",\n",
    "    \n",
    "    \"COMPLETION_PROMPT\":\"You're an text corrector. You are an expert in correcting texts. You will receive a text in the german language that contain abreviated words, \"\n",
    "    \"write those abriviated words out and return the corrected sentence in the schemes you had been given. If there are no abriviated words return the sentence as it is.\",\n",
    "    \n",
    "    \n",
    "    \"model_name\":\"gemini-2.5-flash\",\n",
    "    \n",
    "    \"generation_config\" : {\n",
    "        \"temperature\": 1,\n",
    "        \"top_p\": 0.95,\n",
    "        \"top_k\": 40,\n",
    "        \"max_output_tokens\": 65536,\n",
    "        \"response_mime_type\": \"application/json\",\n",
    "        \"response_schema\": ExtractedContent,\n",
    "    }\n",
    "}"
   ]
  },
  {
   "cell_type": "code",
   "execution_count": null,
   "id": "07aebc7e",
   "metadata": {},
   "outputs": [
    {
     "name": "stdout",
     "output_type": "stream",
     "text": [
      "222L6GN7RLURYX36SG5DC7OGNEQUHPEQ-ALTO6294738_DDB_FULLTEXT\n",
      "2I6N3O6FQVREJAANZILPB7KV3FPJ3AJC-ALTO6282283_DDB_FULLTEXT\n",
      "2SD5IW4WF3O7OXZOSVUN3UZSYNUSDZRU-ALTO6311708_DDB_FULLTEXT\n",
      "2SVA6DKFXF6DLHZQDX4K7FL3CZ2SBJW6-ALTO6338444_DDB_FULLTEXT\n",
      "2TDMUDSOIG6M4UQSDA6QJ4D77NNJFUVG-ALTO6314075_DDB_FULLTEXT\n",
      "222L6GN7RLURYX36SG5DC7OGNEQUHPEQ-ALTO6294738_DDB_FULLTEXT\n",
      "2I6N3O6FQVREJAANZILPB7KV3FPJ3AJC-ALTO6282283_DDB_FULLTEXT\n",
      "Error while parsing the response - Exeption Unterminated string starting at: line 1 column 14 (char 13)\n",
      "2SD5IW4WF3O7OXZOSVUN3UZSYNUSDZRU-ALTO6311708_DDB_FULLTEXT\n",
      "2SD5IW4WF3O7OXZOSVUN3UZSYNUSDZRU-ALTO6311708_DDB_FULLTEXT\n",
      "2SVA6DKFXF6DLHZQDX4K7FL3CZ2SBJW6-ALTO6338444_DDB_FULLTEXT\n",
      "2SVA6DKFXF6DLHZQDX4K7FL3CZ2SBJW6-ALTO6338444_DDB_FULLTEXT\n",
      "2SVA6DKFXF6DLHZQDX4K7FL3CZ2SBJW6-ALTO6338444_DDB_FULLTEXT\n",
      "2SVA6DKFXF6DLHZQDX4K7FL3CZ2SBJW6-ALTO6338444_DDB_FULLTEXT\n",
      "2SVA6DKFXF6DLHZQDX4K7FL3CZ2SBJW6-ALTO6338444_DDB_FULLTEXT\n",
      "2SVA6DKFXF6DLHZQDX4K7FL3CZ2SBJW6-ALTO6338444_DDB_FULLTEXT\n",
      "2TDMUDSOIG6M4UQSDA6QJ4D77NNJFUVG-ALTO6314075_DDB_FULLTEXT\n",
      "222L6GN7RLURYX36SG5DC7OGNEQUHPEQ-ALTO6294738_DDB_FULLTEXT\n",
      "2I6N3O6FQVREJAANZILPB7KV3FPJ3AJC-ALTO6282283_DDB_FULLTEXT\n",
      "2SD5IW4WF3O7OXZOSVUN3UZSYNUSDZRU-ALTO6311708_DDB_FULLTEXT\n",
      "2SD5IW4WF3O7OXZOSVUN3UZSYNUSDZRU-ALTO6311708_DDB_FULLTEXTanz_0\n",
      "2SVA6DKFXF6DLHZQDX4K7FL3CZ2SBJW6-ALTO6338444_DDB_FULLTEXT\n",
      "2SVA6DKFXF6DLHZQDX4K7FL3CZ2SBJW6-ALTO6338444_DDB_FULLTEXTanz_0\n",
      "2SVA6DKFXF6DLHZQDX4K7FL3CZ2SBJW6-ALTO6338444_DDB_FULLTEXTanz_1\n",
      "2SVA6DKFXF6DLHZQDX4K7FL3CZ2SBJW6-ALTO6338444_DDB_FULLTEXTanz_2\n",
      "2SVA6DKFXF6DLHZQDX4K7FL3CZ2SBJW6-ALTO6338444_DDB_FULLTEXTanz_3\n",
      "2SVA6DKFXF6DLHZQDX4K7FL3CZ2SBJW6-ALTO6338444_DDB_FULLTEXTanz_4\n",
      "2SVA6DKFXF6DLHZQDX4K7FL3CZ2SBJW6-ALTO6338444_DDB_FULLTEXTanz_4\n",
      "2TDMUDSOIG6M4UQSDA6QJ4D77NNJFUVG-ALTO6314075_DDB_FULLTEXT\n"
     ]
    }
   ],
   "source": [
    "wf = FullWorkflow(configs=test_config, input_id= p,text= t, prompt_list_ordered=[\"PROMPT\", \"CORRECTION_PROMPT\", \"COMPLETION_PROMPT\"])\n",
    "r = wf.run_workflow()"
   ]
  },
  {
   "cell_type": "code",
   "execution_count": null,
   "id": "785e5c31",
   "metadata": {},
   "outputs": [
    {
     "data": {
      "application/vnd.microsoft.datawrangler.viewer.v0+json": {
       "columns": [
        {
         "name": "index",
         "rawType": "int64",
         "type": "integer"
        },
        {
         "name": "ids",
         "rawType": "object",
         "type": "string"
        },
        {
         "name": "content",
         "rawType": "object",
         "type": "unknown"
        }
       ],
       "ref": "1bd785ad-3d1a-4223-8cd8-1b8942e8ab58",
       "rows": [
        [
         "0",
         "222L6GN7RLURYX36SG5DC7OGNEQUHPEQ-ALTO6294738_DDB_FULLTEXT",
         "Reelles Heiratsgesuch ! Ein junger Mann , 30 Jahre alt , sucht Bekanntschaft mit einer jungen Dame zwecks baldiger Heirat . Ehrensache Briefe befördert die Exp ds . Bl . in Arnsberg unter Nr . 101 ."
        ],
        [
         "1",
         "2I6N3O6FQVREJAANZILPB7KV3FPJ3AJC-ALTO6282283_DDB_FULLTEXT",
         null
        ],
        [
         "2",
         "2SD5IW4WF3O7OXZOSVUN3UZSYNUSDZRU-ALTO6311708_DDB_FULLTEXT",
         "Damen jeden Standes und Alters , mit und ohne Vermögen , Landwiriswitwen u . Töchter , Herren jeden Standes und Alters , Landwirte , Beante , Arbeiter , finden stets passende Bekanntschaf . wecks Heirat durch meine Wer nittlung . Diskret und reell ! Täglich , auch Sonntags , stets u # sprechen . Frau M . Heurich . Arnsberg , Dortmund Hahnboefstr 84 vi . Burawas 31"
        ],
        [
         "3",
         "2SD5IW4WF3O7OXZOSVUN3UZSYNUSDZRU-ALTO6311708_DDB_FULLTEXTanz_0",
         "Heiratsgesuch ! Junger Mann ( Handwirker ) 23 . , eo # l , wünscht mit einer egel Dome in Brieswechsel zu treten zwickl späterer Heirat . Offerten wöglichst mit Bild wolle man senden unt . Nr . 538 an die Geschästsstelle d . B1 ."
        ],
        [
         "4",
         "2SVA6DKFXF6DLHZQDX4K7FL3CZ2SBJW6-ALTO6338444_DDB_FULLTEXT",
         "Manusakturift , 27 Jahre , 1,68 groß , ansehn lich , mittelblond , Augen blau , tiefreligiös , heit . Gemüts , sucht liebes nettes Mädchen , mittel oder dunkelblond , Augen blau , mit gut kath . Religion zwecks Heirat kennen zu lernen . Besitze gutes Geschäft , schönes Heim . Ver mögen ca . 100 000 bis 110000 Mark . Dis kretion Ehrensache . Angebote mit Bild , welches ehrenwörtlich zurückgesandt , unter D . 184 W . an die Geschäftsstelle dieser Zeitung ."
        ],
        [
         "5",
         "2SVA6DKFXF6DLHZQDX4K7FL3CZ2SBJW6-ALTO6338444_DDB_FULLTEXTanz_0",
         "Akademiker 28\b Jahre all , natur = und sportfreudig , sucht Bekanntschaft mit feingebildeter , hübscher junger Dame aus guter Familie zwecks späterer Heirat Zuschriften m . Bild ( sof . zurück ) erbeten unt . D 23575 an die Geschäftsstelle dieser Zeitung ."
        ],
        [
         "6",
         "2SVA6DKFXF6DLHZQDX4K7FL3CZ2SBJW6-ALTO6338444_DDB_FULLTEXTanz_1",
         "Aleinstehender Hofbesitzer , 125 Morgen , 30 Jahre alt , sucht mit hübscher gebildeter Land wirtstochter bis zu 28 Jahren in Briefwechsel zu treten zwecks baldiger Heirat . Vermögen erwünscht , eventuell auch Einheirat in andere Landwirtschaft . Gefl . Zuschriften mit Bild wolle man senden unter Ag . 1232 an die Geschäftsstelle dieser Zeitung ."
        ],
        [
         "7",
         "2SVA6DKFXF6DLHZQDX4K7FL3CZ2SBJW6-ALTO6338444_DDB_FULLTEXTanz_2",
         "Heiratsgesuch . Lediger , kath . Beam tenanwärter , 37 Jahre , wünscht die Bekanntsch . eines gesunden Läusl . Mädchens bis zu 27 Jahren , mit guter Ver gangenheit . Vermögen langenehm . Verschwiegen heit Ehrensache ! Briese unt . Darlegung d Ver dältnisse unt . Ag . 1231 a . d . Geschst . dies . Zig ."
        ],
        [
         "8",
         "2SVA6DKFXF6DLHZQDX4K7FL3CZ2SBJW6-ALTO6338444_DDB_FULLTEXTanz_3",
         "Sollder Mann , 26 . , kath . , 2000 4l bar , spät . Vermög , wünscht nettes Mädchen zwecks Heirat kennen zu lernen . Oss . Hauptpostlagernd 412 Herne ."
        ],
        [
         "9",
         "2SVA6DKFXF6DLHZQDX4K7FL3CZ2SBJW6-ALTO6338444_DDB_FULLTEXTanz_4",
         "Heirat Für 22jähr . kathol . Gutsbesitzerstochter . ca . \b Mislon suche ie Klademiter ."
        ],
        [
         "10",
         "2SVA6DKFXF6DLHZQDX4K7FL3CZ2SBJW6-ALTO6338444_DDB_FULLTEXTanz_4anz_0",
         "Für 26jähr . kaih Dame mit 120 Mille , auch Herrn in au . Postion ."
        ],
        [
         "11",
         "2TDMUDSOIG6M4UQSDA6QJ4D77NNJFUVG-ALTO6314075_DDB_FULLTEXT",
         "Junger katt, gut enzogener Mann im Alter von 30 Jahren sucht sich auf diesem Wege mit einer katb. jungen Tame im Alter don 20 — 40 Jahren zu ve heiraten und wollen sich nur wirklich guterzogene Zange Damen mit ediem Charokter melden Offenien mögichst mit Bild unter Nr 1005 zu de Gech. d. Bl. Höchste Verschwieger beit zugesichert Rch eintägigem Besiv des Bildes wird das selde sofort zm ückgefaubt."
        ]
       ],
       "shape": {
        "columns": 2,
        "rows": 12
       }
      },
      "text/html": [
       "<div>\n",
       "<style scoped>\n",
       "    .dataframe tbody tr th:only-of-type {\n",
       "        vertical-align: middle;\n",
       "    }\n",
       "\n",
       "    .dataframe tbody tr th {\n",
       "        vertical-align: top;\n",
       "    }\n",
       "\n",
       "    .dataframe thead th {\n",
       "        text-align: right;\n",
       "    }\n",
       "</style>\n",
       "<table border=\"1\" class=\"dataframe\">\n",
       "  <thead>\n",
       "    <tr style=\"text-align: right;\">\n",
       "      <th></th>\n",
       "      <th>ids</th>\n",
       "      <th>content</th>\n",
       "    </tr>\n",
       "  </thead>\n",
       "  <tbody>\n",
       "    <tr>\n",
       "      <th>0</th>\n",
       "      <td>222L6GN7RLURYX36SG5DC7OGNEQUHPEQ-ALTO6294738_D...</td>\n",
       "      <td>Reelles Heiratsgesuch ! Ein junger Mann , 30 J...</td>\n",
       "    </tr>\n",
       "    <tr>\n",
       "      <th>1</th>\n",
       "      <td>2I6N3O6FQVREJAANZILPB7KV3FPJ3AJC-ALTO6282283_D...</td>\n",
       "      <td>NaN</td>\n",
       "    </tr>\n",
       "    <tr>\n",
       "      <th>2</th>\n",
       "      <td>2SD5IW4WF3O7OXZOSVUN3UZSYNUSDZRU-ALTO6311708_D...</td>\n",
       "      <td>Damen jeden Standes und Alters , mit und ohne ...</td>\n",
       "    </tr>\n",
       "    <tr>\n",
       "      <th>3</th>\n",
       "      <td>2SD5IW4WF3O7OXZOSVUN3UZSYNUSDZRU-ALTO6311708_D...</td>\n",
       "      <td>Heiratsgesuch ! Junger Mann ( Handwirker ) 23 ...</td>\n",
       "    </tr>\n",
       "    <tr>\n",
       "      <th>4</th>\n",
       "      <td>2SVA6DKFXF6DLHZQDX4K7FL3CZ2SBJW6-ALTO6338444_D...</td>\n",
       "      <td>Manusakturift , 27 Jahre , 1,68 groß , ansehn ...</td>\n",
       "    </tr>\n",
       "    <tr>\n",
       "      <th>5</th>\n",
       "      <td>2SVA6DKFXF6DLHZQDX4K7FL3CZ2SBJW6-ALTO6338444_D...</td>\n",
       "      <td>Akademiker 28\b Jahre all , natur = und sportfr...</td>\n",
       "    </tr>\n",
       "    <tr>\n",
       "      <th>6</th>\n",
       "      <td>2SVA6DKFXF6DLHZQDX4K7FL3CZ2SBJW6-ALTO6338444_D...</td>\n",
       "      <td>Aleinstehender Hofbesitzer , 125 Morgen , 30 J...</td>\n",
       "    </tr>\n",
       "    <tr>\n",
       "      <th>7</th>\n",
       "      <td>2SVA6DKFXF6DLHZQDX4K7FL3CZ2SBJW6-ALTO6338444_D...</td>\n",
       "      <td>Heiratsgesuch . Lediger , kath . Beam tenanwär...</td>\n",
       "    </tr>\n",
       "    <tr>\n",
       "      <th>8</th>\n",
       "      <td>2SVA6DKFXF6DLHZQDX4K7FL3CZ2SBJW6-ALTO6338444_D...</td>\n",
       "      <td>Sollder Mann , 26 . , kath . , 2000 4l bar , s...</td>\n",
       "    </tr>\n",
       "    <tr>\n",
       "      <th>9</th>\n",
       "      <td>2SVA6DKFXF6DLHZQDX4K7FL3CZ2SBJW6-ALTO6338444_D...</td>\n",
       "      <td>Heirat Für 22jähr . kathol . Gutsbesitzerstoch...</td>\n",
       "    </tr>\n",
       "    <tr>\n",
       "      <th>10</th>\n",
       "      <td>2SVA6DKFXF6DLHZQDX4K7FL3CZ2SBJW6-ALTO6338444_D...</td>\n",
       "      <td>Für 26jähr . kaih Dame mit 120 Mille , auch He...</td>\n",
       "    </tr>\n",
       "    <tr>\n",
       "      <th>11</th>\n",
       "      <td>2TDMUDSOIG6M4UQSDA6QJ4D77NNJFUVG-ALTO6314075_D...</td>\n",
       "      <td>Junger katt, gut enzogener Mann im Alter von 3...</td>\n",
       "    </tr>\n",
       "  </tbody>\n",
       "</table>\n",
       "</div>"
      ],
      "text/plain": [
       "                                                  ids  \\\n",
       "0   222L6GN7RLURYX36SG5DC7OGNEQUHPEQ-ALTO6294738_D...   \n",
       "1   2I6N3O6FQVREJAANZILPB7KV3FPJ3AJC-ALTO6282283_D...   \n",
       "2   2SD5IW4WF3O7OXZOSVUN3UZSYNUSDZRU-ALTO6311708_D...   \n",
       "3   2SD5IW4WF3O7OXZOSVUN3UZSYNUSDZRU-ALTO6311708_D...   \n",
       "4   2SVA6DKFXF6DLHZQDX4K7FL3CZ2SBJW6-ALTO6338444_D...   \n",
       "5   2SVA6DKFXF6DLHZQDX4K7FL3CZ2SBJW6-ALTO6338444_D...   \n",
       "6   2SVA6DKFXF6DLHZQDX4K7FL3CZ2SBJW6-ALTO6338444_D...   \n",
       "7   2SVA6DKFXF6DLHZQDX4K7FL3CZ2SBJW6-ALTO6338444_D...   \n",
       "8   2SVA6DKFXF6DLHZQDX4K7FL3CZ2SBJW6-ALTO6338444_D...   \n",
       "9   2SVA6DKFXF6DLHZQDX4K7FL3CZ2SBJW6-ALTO6338444_D...   \n",
       "10  2SVA6DKFXF6DLHZQDX4K7FL3CZ2SBJW6-ALTO6338444_D...   \n",
       "11  2TDMUDSOIG6M4UQSDA6QJ4D77NNJFUVG-ALTO6314075_D...   \n",
       "\n",
       "                                              content  \n",
       "0   Reelles Heiratsgesuch ! Ein junger Mann , 30 J...  \n",
       "1                                                 NaN  \n",
       "2   Damen jeden Standes und Alters , mit und ohne ...  \n",
       "3   Heiratsgesuch ! Junger Mann ( Handwirker ) 23 ...  \n",
       "4   Manusakturift , 27 Jahre , 1,68 groß , ansehn ...  \n",
       "5   Akademiker 28\b Jahre all , natur = und sportfr...  \n",
       "6   Aleinstehender Hofbesitzer , 125 Morgen , 30 J...  \n",
       "7   Heiratsgesuch . Lediger , kath . Beam tenanwär...  \n",
       "8   Sollder Mann , 26 . , kath . , 2000 4l bar , s...  \n",
       "9   Heirat Für 22jähr . kathol . Gutsbesitzerstoch...  \n",
       "10  Für 26jähr . kaih Dame mit 120 Mille , auch He...  \n",
       "11  Junger katt, gut enzogener Mann im Alter von 3...  "
      ]
     },
     "execution_count": 75,
     "metadata": {},
     "output_type": "execute_result"
    }
   ],
   "source": [
    "r"
   ]
  }
 ],
 "metadata": {
  "kernelspec": {
   "display_name": "Python 3",
   "language": "python",
   "name": "python3"
  },
  "language_info": {
   "codemirror_mode": {
    "name": "ipython",
    "version": 3
   },
   "file_extension": ".py",
   "mimetype": "text/x-python",
   "name": "python",
   "nbconvert_exporter": "python",
   "pygments_lexer": "ipython3",
   "version": "3.13.2"
  }
 },
 "nbformat": 4,
 "nbformat_minor": 5
}
